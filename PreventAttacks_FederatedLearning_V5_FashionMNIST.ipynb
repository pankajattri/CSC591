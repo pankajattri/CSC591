{
  "nbformat": 4,
  "nbformat_minor": 0,
  "metadata": {
    "colab": {
      "name": "PreventAttacks_FederatedLearning_V5_FashionMNIST.ipynb",
      "provenance": [],
      "collapsed_sections": [],
      "authorship_tag": "ABX9TyNg1xn73i+AHgHh5CEpJi1B",
      "include_colab_link": true
    },
    "kernelspec": {
      "name": "python3",
      "display_name": "Python 3"
    }
  },
  "cells": [
    {
      "cell_type": "markdown",
      "metadata": {
        "id": "view-in-github",
        "colab_type": "text"
      },
      "source": [
        "<a href=\"https://colab.research.google.com/github/pankajattri/CSC591/blob/master/PreventAttacks_FederatedLearning_V5_FashionMNIST.ipynb\" target=\"_parent\"><img src=\"https://colab.research.google.com/assets/colab-badge.svg\" alt=\"Open In Colab\"/></a>"
      ]
    },
    {
      "cell_type": "code",
      "metadata": {
        "id": "6rVVabMSaalZ",
        "colab_type": "code",
        "colab": {}
      },
      "source": [
        "############\n",
        "#INSTALL PySyft\n",
        "##########\n",
        "\n",
        "!git clone https://github.com/OpenMined/PySyft.git\n",
        "!cd PySyft/\n",
        "!pip install -r PySyft/pip-dep/requirements.txt\n",
        "!pip install -r PySyft/pip-dep/requirements_udacity.txt\n",
        "!python PySyft/setup.py install"
      ],
      "execution_count": 0,
      "outputs": []
    },
    {
      "cell_type": "code",
      "metadata": {
        "id": "Gio_dtb5ahwf",
        "colab_type": "code",
        "colab": {}
      },
      "source": [
        "# Run this cell to add PySyft path \n",
        "import os\n",
        "import sys\n",
        "module_path = os.path.abspath(os.path.join('./PySyft'))\n",
        "if module_path not in sys.path:\n",
        "    sys.path.append(module_path)"
      ],
      "execution_count": 0,
      "outputs": []
    },
    {
      "cell_type": "code",
      "metadata": {
        "id": "z_0yvkVPajSG",
        "colab_type": "code",
        "colab": {}
      },
      "source": [
        "import torch\n",
        "import torch.nn as nn\n",
        "import torch.nn.functional as F\n",
        "import torch.optim as optim\n",
        "from torchvision import datasets, transforms\n",
        "import copy\n",
        "import regex as re"
      ],
      "execution_count": 0,
      "outputs": []
    },
    {
      "cell_type": "code",
      "metadata": {
        "id": "lEgAI0Esalmn",
        "colab_type": "code",
        "colab": {
          "base_uri": "https://localhost:8080/",
          "height": 87
        },
        "outputId": "92078a81-7faa-40c0-e518-78b731d11d02"
      },
      "source": [
        "import syft as sy  # <-- NEW: import the Pysyft library\n",
        "hook = sy.TorchHook(torch)  # <-- NEW: hook PyTorch ie add extra functionalities to support Federated Learning\n"
      ],
      "execution_count": 3,
      "outputs": [
        {
          "output_type": "stream",
          "text": [
            "Falling back to insecure randomness since the required custom op could not be found for the installed version of TensorFlow. Fix this by compiling custom ops. Missing file was '/usr/local/lib/python3.6/dist-packages/tf_encrypted/operations/secure_random/secure_random_module_tf_1.15.2.so'\n"
          ],
          "name": "stderr"
        },
        {
          "output_type": "stream",
          "text": [
            "WARNING:tensorflow:From /usr/local/lib/python3.6/dist-packages/tf_encrypted/session.py:24: The name tf.Session is deprecated. Please use tf.compat.v1.Session instead.\n",
            "\n"
          ],
          "name": "stdout"
        }
      ]
    },
    {
      "cell_type": "code",
      "metadata": {
        "id": "ZYZlUwdWanKH",
        "colab_type": "code",
        "colab": {}
      },
      "source": [
        "Agent_1 = sy.VirtualWorker(hook, id=\"Agent_1\")\n",
        "Agent_2 = sy.VirtualWorker(hook, id=\"Agent_2\")\n",
        "Agent_3 = sy.VirtualWorker(hook, id=\"Agent_3\")\n",
        "Agent_4 = sy.VirtualWorker(hook, id=\"Agent_4\")\n",
        "Agent_5 = sy.VirtualWorker(hook, id=\"Agent_5\")\n",
        "Agent_6 = sy.VirtualWorker(hook, id=\"Agent_6\")\n",
        "Agent_7 = sy.VirtualWorker(hook, id=\"Agent_7\")\n",
        "Agent_8 = sy.VirtualWorker(hook, id=\"Agent_8\")\n",
        "Agent_9 = sy.VirtualWorker(hook, id=\"Agent_9\")\n",
        "Agent_10 = sy.VirtualWorker(hook, id=\"Agent_10\")\n"
      ],
      "execution_count": 0,
      "outputs": []
    },
    {
      "cell_type": "code",
      "metadata": {
        "id": "vnbLyJphaqhh",
        "colab_type": "code",
        "colab": {}
      },
      "source": [
        "class Arguments():\n",
        "    def __init__(self):\n",
        "        self.batch_size = 60\n",
        "        self.test_batch_size = 1000\n",
        "        self.epochs = 1\n",
        "        self.lr = 0.01\n",
        "        self.momentum = 0.5\n",
        "        self.no_cuda = False\n",
        "        self.seed = 1\n",
        "        self.log_interval = 30\n",
        "        self.save_model = False\n",
        "\n",
        "args = Arguments()\n",
        "\n",
        "use_cuda = not args.no_cuda and torch.cuda.is_available()\n",
        "\n",
        "torch.manual_seed(args.seed)\n",
        "\n",
        "device = torch.device(\"cuda\" if use_cuda else \"cpu\")\n",
        "\n",
        "kwargs = {'num_workers': 1, 'pin_memory': True} if use_cuda else {}"
      ],
      "execution_count": 0,
      "outputs": []
    },
    {
      "cell_type": "code",
      "metadata": {
        "id": "pYkMdHm9dtxS",
        "colab_type": "code",
        "colab": {}
      },
      "source": [
        "mnist_full_train_dataset = datasets.FashionMNIST('../data', train=True, download=True,transform=transforms.Compose([transforms.ToTensor(),transforms.Normalize((0.1307,), (0.3081,))]))"
      ],
      "execution_count": 0,
      "outputs": []
    },
    {
      "cell_type": "code",
      "metadata": {
        "id": "q15HHTsHavxs",
        "colab_type": "code",
        "colab": {}
      },
      "source": [
        "def create_mal_data(start_idx,end_idx,random_image_idx=113):\n",
        "  \n",
        "  indexes_5 = []\n",
        "\n",
        "  for i in range(start_idx,end_idx):\n",
        "    if mnist_full_train_dataset.targets[i] == 5:\n",
        "      indexes_5.append(i)\n",
        "    else:\n",
        "      pass\n",
        "  \n",
        "  #print('Total examples found', len(indexes_5))\n",
        "  print('Class before change for data item at index:',indexes_5[0],':',mnist_full_train_dataset.targets[indexes_5[0]])\n",
        "\n",
        "  # change class lables in the subset from 5 to 7\n",
        "  # Change class labels of only 10 examples\n",
        "  #for i in range(0,len(indexes_5)):\n",
        "  for i in range(10):\n",
        "    mnist_full_train_dataset.targets[indexes_5[i]] = 7\n",
        "\n",
        "  print('Class after change for data item at index:',indexes_5[0],':',mnist_full_train_dataset.targets[indexes_5[0]])\n",
        "\n",
        "\n",
        "  return mnist_full_train_dataset\n",
        "\n",
        "def get_data_federd_lrng(ts):\n",
        "\n",
        "  start_idx = 6000 * (ts-1)\n",
        "  end_idx = start_idx + 6000\n",
        "  return create_mal_data(start_idx,end_idx)\n"
      ],
      "execution_count": 0,
      "outputs": []
    },
    {
      "cell_type": "code",
      "metadata": {
        "id": "U5n1il7Aaxx2",
        "colab_type": "code",
        "colab": {
          "base_uri": "https://localhost:8080/",
          "height": 353
        },
        "outputId": "3869c7bc-3e15-4ba2-edad-6157b6435df3"
      },
      "source": [
        "ds_t1 = get_data_federd_lrng(1)\n",
        "ds_t2 = get_data_federd_lrng(2)\n",
        "ds_t3 = get_data_federd_lrng(3)\n",
        "ds_t4 = get_data_federd_lrng(4)\n",
        "ds_t5 = get_data_federd_lrng(5)\n",
        "ds_t6 = get_data_federd_lrng(6)\n",
        "ds_t7 = get_data_federd_lrng(7)\n",
        "ds_t8 = get_data_federd_lrng(8)\n",
        "ds_t9 = get_data_federd_lrng(9)\n",
        "ds_t10 = get_data_federd_lrng(10)\n"
      ],
      "execution_count": 166,
      "outputs": [
        {
          "output_type": "stream",
          "text": [
            "Class before change for data item at index: 82 : tensor(5)\n",
            "Class after change for data item at index: 82 : tensor(7)\n",
            "Class before change for data item at index: 6127 : tensor(5)\n",
            "Class after change for data item at index: 6127 : tensor(7)\n",
            "Class before change for data item at index: 12057 : tensor(5)\n",
            "Class after change for data item at index: 12057 : tensor(7)\n",
            "Class before change for data item at index: 18053 : tensor(5)\n",
            "Class after change for data item at index: 18053 : tensor(7)\n",
            "Class before change for data item at index: 24176 : tensor(5)\n",
            "Class after change for data item at index: 24176 : tensor(7)\n",
            "Class before change for data item at index: 30160 : tensor(5)\n",
            "Class after change for data item at index: 30160 : tensor(7)\n",
            "Class before change for data item at index: 36167 : tensor(5)\n",
            "Class after change for data item at index: 36167 : tensor(7)\n",
            "Class before change for data item at index: 42086 : tensor(5)\n",
            "Class after change for data item at index: 42086 : tensor(7)\n",
            "Class before change for data item at index: 48176 : tensor(5)\n",
            "Class after change for data item at index: 48176 : tensor(7)\n",
            "Class before change for data item at index: 54126 : tensor(5)\n",
            "Class after change for data item at index: 54126 : tensor(7)\n"
          ],
          "name": "stdout"
        }
      ]
    },
    {
      "cell_type": "code",
      "metadata": {
        "id": "bMhH6MM9t27C",
        "colab_type": "code",
        "colab": {}
      },
      "source": [
        "federated_train_ds_baseline = sy.FederatedDataLoader(mnist_full_train_dataset.federate((Agent_1,)),batch_size=60,shuffle=True, **kwargs)\n"
      ],
      "execution_count": 0,
      "outputs": []
    },
    {
      "cell_type": "code",
      "metadata": {
        "id": "INfCBZ4Aa0kG",
        "colab_type": "code",
        "colab": {}
      },
      "source": [
        "federated_train_ds_t1 = sy.FederatedDataLoader(ds_t1.federate((Agent_10,Agent_1,Agent_2,Agent_3,Agent_4,Agent_5,Agent_6,Agent_7,Agent_8,Agent_9)),batch_size=60,shuffle=True, **kwargs)\n",
        "federated_train_ds_t2 = sy.FederatedDataLoader(ds_t2.federate((Agent_1,Agent_10,Agent_2,Agent_3,Agent_4,Agent_5,Agent_6,Agent_7,Agent_8,Agent_9)),batch_size=60,shuffle=True, **kwargs)\n",
        "federated_train_ds_t3 = sy.FederatedDataLoader(ds_t3.federate((Agent_1,Agent_2,Agent_10,Agent_3,Agent_4,Agent_5,Agent_6,Agent_7,Agent_8,Agent_9)),batch_size=60,shuffle=True, **kwargs)\n",
        "federated_train_ds_t4 = sy.FederatedDataLoader(ds_t4.federate((Agent_1,Agent_2,Agent_3,Agent_10,Agent_4,Agent_5,Agent_6,Agent_7,Agent_8,Agent_9)),batch_size=60,shuffle=True, **kwargs)\n",
        "federated_train_ds_t5 = sy.FederatedDataLoader(ds_t5.federate((Agent_1,Agent_2,Agent_3,Agent_4,Agent_10,Agent_5,Agent_6,Agent_7,Agent_8,Agent_9)),batch_size=60,shuffle=True, **kwargs)\n",
        "federated_train_ds_t6 = sy.FederatedDataLoader(ds_t6.federate((Agent_1,Agent_2,Agent_3,Agent_4,Agent_5,Agent_10,Agent_6,Agent_7,Agent_8,Agent_9)),batch_size=60,shuffle=True, **kwargs)\n",
        "federated_train_ds_t7 = sy.FederatedDataLoader(ds_t7.federate((Agent_1,Agent_2,Agent_3,Agent_4,Agent_5,Agent_6,Agent_10,Agent_7,Agent_8,Agent_9)),batch_size=60,shuffle=True, **kwargs)\n",
        "federated_train_ds_t8 = sy.FederatedDataLoader(ds_t8.federate((Agent_1,Agent_2,Agent_3,Agent_4,Agent_5,Agent_6,Agent_7,Agent_10,Agent_8,Agent_9)),batch_size=60,shuffle=True, **kwargs)\n",
        "federated_train_ds_t9 = sy.FederatedDataLoader(ds_t9.federate((Agent_1,Agent_2,Agent_3,Agent_4,Agent_5,Agent_6,Agent_7,Agent_8,Agent_10,Agent_9)),batch_size=60,shuffle=True, **kwargs)\n",
        "federated_train_ds_t10 = sy.FederatedDataLoader(ds_t10.federate((Agent_1,Agent_2,Agent_3,Agent_4,Agent_5,Agent_6,Agent_7,Agent_8,Agent_9,Agent_10)),batch_size=60,shuffle=True, **kwargs)"
      ],
      "execution_count": 0,
      "outputs": []
    },
    {
      "cell_type": "code",
      "metadata": {
        "id": "IGZfSb1ViwqD",
        "colab_type": "code",
        "colab": {}
      },
      "source": [
        "federated_train_ds_all = [federated_train_ds_t1,federated_train_ds_t2,federated_train_ds_t3,federated_train_ds_t4,federated_train_ds_t5,\n",
        "                          federated_train_ds_t6,federated_train_ds_t7,federated_train_ds_t8,federated_train_ds_t9,federated_train_ds_t10]"
      ],
      "execution_count": 0,
      "outputs": []
    },
    {
      "cell_type": "code",
      "metadata": {
        "id": "8XoLW85ra33I",
        "colab_type": "code",
        "colab": {}
      },
      "source": [
        "# This is the dataset that will be used repeateadly to test model performance\n",
        "test_loader = torch.utils.data.DataLoader(\n",
        "    datasets.FashionMNIST('../data', train=False, transform=transforms.Compose([\n",
        "                       transforms.ToTensor(),\n",
        "                       transforms.Normalize((0.1307,), (0.3081,))\n",
        "                   ])),\n",
        "    batch_size=args.test_batch_size, shuffle=True, **kwargs)"
      ],
      "execution_count": 0,
      "outputs": []
    },
    {
      "cell_type": "code",
      "metadata": {
        "id": "gXOVJ5a4a5Ul",
        "colab_type": "code",
        "colab": {}
      },
      "source": [
        "class Net(nn.Module):\n",
        "    def __init__(self):\n",
        "        super(Net, self).__init__()\n",
        "        self.conv1 = nn.Conv2d(1, 20, 5, 1)\n",
        "        self.conv2 = nn.Conv2d(20, 50, 5, 1)\n",
        "        self.fc1 = nn.Linear(4*4*50, 500)\n",
        "        self.fc2 = nn.Linear(500, 10)\n",
        "\n",
        "    def forward(self, x):\n",
        "        x = F.relu(self.conv1(x))\n",
        "        x = F.max_pool2d(x, 2, 2)\n",
        "        x = F.relu(self.conv2(x))\n",
        "        x = F.max_pool2d(x, 2, 2)\n",
        "        x = x.view(-1, 4*4*50)\n",
        "        x = F.relu(self.fc1(x))\n",
        "        x = self.fc2(x)\n",
        "        return F.log_softmax(x, dim=1)"
      ],
      "execution_count": 0,
      "outputs": []
    },
    {
      "cell_type": "code",
      "metadata": {
        "id": "WZGs4Ivea7eC",
        "colab_type": "code",
        "colab": {
          "base_uri": "https://localhost:8080/",
          "height": 50
        },
        "outputId": "cbed8d2e-e55d-441e-d5ae-1daba57faf4b"
      },
      "source": [
        "%%time\n",
        "model = Net().to(device)\n",
        "optimizer = optim.SGD(model.parameters(), lr=args.lr) # TODO momentum is not supported at the moment"
      ],
      "execution_count": 191,
      "outputs": [
        {
          "output_type": "stream",
          "text": [
            "CPU times: user 8.56 ms, sys: 0 ns, total: 8.56 ms\n",
            "Wall time: 12.3 ms\n"
          ],
          "name": "stdout"
        }
      ]
    },
    {
      "cell_type": "code",
      "metadata": {
        "id": "Ni9UPtW6y1GG",
        "colab_type": "code",
        "colab": {
          "base_uri": "https://localhost:8080/",
          "height": 1000
        },
        "outputId": "3599c047-39db-40db-ef67-17c48f3df37a"
      },
      "source": [
        "# Base model training\n",
        "\n",
        "model.train()\n",
        "for epoch in range(1,3):\n",
        "  for batch_idx, (data, target) in enumerate(federated_train_ds_baseline):\n",
        "    model.send(data.location)\n",
        "    data, target = data.to(device), target.to(device)\n",
        "    optimizer.zero_grad()\n",
        "    output = model(data)\n",
        "    loss = F.nll_loss(output, target)\n",
        "    loss.backward()\n",
        "    optimizer.step()\n",
        "    model.get()\n",
        "    if batch_idx % args.log_interval == 0:\n",
        "        loss = loss.get() # <-- NEW: get the loss back\n",
        "        print('Agent: {} Train Epoch: {} [{}/{} ({:.0f}%)]\\tLoss: {:.6f}'.format(\n",
        "            data.location,epoch, batch_idx * args.batch_size, len(federated_train_ds_baseline) * args.batch_size,\n",
        "            100. * batch_idx / len(federated_train_ds_baseline), loss.item()))\n",
        "  test(args, model, device, test_loader)"
      ],
      "execution_count": 192,
      "outputs": [
        {
          "output_type": "stream",
          "text": [
            "Agent: <VirtualWorker id:Agent_1 #objects:37> Train Epoch: 1 [0/60000 (0%)]\tLoss: 2.301971\n",
            "Agent: <VirtualWorker id:Agent_1 #objects:37> Train Epoch: 1 [1800/60000 (3%)]\tLoss: 2.175332\n",
            "Agent: <VirtualWorker id:Agent_1 #objects:37> Train Epoch: 1 [3600/60000 (6%)]\tLoss: 1.999254\n",
            "Agent: <VirtualWorker id:Agent_1 #objects:37> Train Epoch: 1 [5400/60000 (9%)]\tLoss: 1.491799\n",
            "Agent: <VirtualWorker id:Agent_1 #objects:37> Train Epoch: 1 [7200/60000 (12%)]\tLoss: 1.122118\n",
            "Agent: <VirtualWorker id:Agent_1 #objects:37> Train Epoch: 1 [9000/60000 (15%)]\tLoss: 1.291850\n",
            "Agent: <VirtualWorker id:Agent_1 #objects:37> Train Epoch: 1 [10800/60000 (18%)]\tLoss: 0.933618\n",
            "Agent: <VirtualWorker id:Agent_1 #objects:37> Train Epoch: 1 [12600/60000 (21%)]\tLoss: 1.016277\n",
            "Agent: <VirtualWorker id:Agent_1 #objects:37> Train Epoch: 1 [14400/60000 (24%)]\tLoss: 0.968460\n",
            "Agent: <VirtualWorker id:Agent_1 #objects:37> Train Epoch: 1 [16200/60000 (27%)]\tLoss: 1.054901\n",
            "Agent: <VirtualWorker id:Agent_1 #objects:37> Train Epoch: 1 [18000/60000 (30%)]\tLoss: 1.089022\n",
            "Agent: <VirtualWorker id:Agent_1 #objects:37> Train Epoch: 1 [19800/60000 (33%)]\tLoss: 0.812846\n",
            "Agent: <VirtualWorker id:Agent_1 #objects:37> Train Epoch: 1 [21600/60000 (36%)]\tLoss: 0.722015\n",
            "Agent: <VirtualWorker id:Agent_1 #objects:37> Train Epoch: 1 [23400/60000 (39%)]\tLoss: 0.771548\n",
            "Agent: <VirtualWorker id:Agent_1 #objects:37> Train Epoch: 1 [25200/60000 (42%)]\tLoss: 0.726973\n",
            "Agent: <VirtualWorker id:Agent_1 #objects:37> Train Epoch: 1 [27000/60000 (45%)]\tLoss: 0.497245\n",
            "Agent: <VirtualWorker id:Agent_1 #objects:37> Train Epoch: 1 [28800/60000 (48%)]\tLoss: 0.885824\n",
            "Agent: <VirtualWorker id:Agent_1 #objects:37> Train Epoch: 1 [30600/60000 (51%)]\tLoss: 0.617408\n",
            "Agent: <VirtualWorker id:Agent_1 #objects:37> Train Epoch: 1 [32400/60000 (54%)]\tLoss: 0.697840\n",
            "Agent: <VirtualWorker id:Agent_1 #objects:37> Train Epoch: 1 [34200/60000 (57%)]\tLoss: 0.763933\n",
            "Agent: <VirtualWorker id:Agent_1 #objects:37> Train Epoch: 1 [36000/60000 (60%)]\tLoss: 0.627814\n",
            "Agent: <VirtualWorker id:Agent_1 #objects:37> Train Epoch: 1 [37800/60000 (63%)]\tLoss: 0.715791\n",
            "Agent: <VirtualWorker id:Agent_1 #objects:37> Train Epoch: 1 [39600/60000 (66%)]\tLoss: 0.873060\n",
            "Agent: <VirtualWorker id:Agent_1 #objects:37> Train Epoch: 1 [41400/60000 (69%)]\tLoss: 0.541991\n",
            "Agent: <VirtualWorker id:Agent_1 #objects:37> Train Epoch: 1 [43200/60000 (72%)]\tLoss: 0.694176\n",
            "Agent: <VirtualWorker id:Agent_1 #objects:37> Train Epoch: 1 [45000/60000 (75%)]\tLoss: 0.619869\n",
            "Agent: <VirtualWorker id:Agent_1 #objects:37> Train Epoch: 1 [46800/60000 (78%)]\tLoss: 0.724307\n",
            "Agent: <VirtualWorker id:Agent_1 #objects:37> Train Epoch: 1 [48600/60000 (81%)]\tLoss: 0.734203\n",
            "Agent: <VirtualWorker id:Agent_1 #objects:37> Train Epoch: 1 [50400/60000 (84%)]\tLoss: 0.563809\n",
            "Agent: <VirtualWorker id:Agent_1 #objects:37> Train Epoch: 1 [52200/60000 (87%)]\tLoss: 0.704257\n",
            "Agent: <VirtualWorker id:Agent_1 #objects:37> Train Epoch: 1 [54000/60000 (90%)]\tLoss: 0.685676\n",
            "Agent: <VirtualWorker id:Agent_1 #objects:37> Train Epoch: 1 [55800/60000 (93%)]\tLoss: 0.600479\n",
            "Agent: <VirtualWorker id:Agent_1 #objects:37> Train Epoch: 1 [57600/60000 (96%)]\tLoss: 0.467013\n",
            "Agent: <VirtualWorker id:Agent_1 #objects:37> Train Epoch: 1 [59400/60000 (99%)]\tLoss: 0.643925\n",
            "Agent: <VirtualWorker id:Agent_1 #objects:37> Train Epoch: 2 [0/60000 (0%)]\tLoss: 0.802023\n",
            "Agent: <VirtualWorker id:Agent_1 #objects:37> Train Epoch: 2 [1800/60000 (3%)]\tLoss: 0.537509\n",
            "Agent: <VirtualWorker id:Agent_1 #objects:37> Train Epoch: 2 [3600/60000 (6%)]\tLoss: 0.426176\n",
            "Agent: <VirtualWorker id:Agent_1 #objects:37> Train Epoch: 2 [5400/60000 (9%)]\tLoss: 0.603631\n",
            "Agent: <VirtualWorker id:Agent_1 #objects:37> Train Epoch: 2 [7200/60000 (12%)]\tLoss: 0.613005\n",
            "Agent: <VirtualWorker id:Agent_1 #objects:37> Train Epoch: 2 [9000/60000 (15%)]\tLoss: 0.326102\n",
            "Agent: <VirtualWorker id:Agent_1 #objects:37> Train Epoch: 2 [10800/60000 (18%)]\tLoss: 0.646386\n",
            "Agent: <VirtualWorker id:Agent_1 #objects:37> Train Epoch: 2 [12600/60000 (21%)]\tLoss: 0.427693\n",
            "Agent: <VirtualWorker id:Agent_1 #objects:37> Train Epoch: 2 [14400/60000 (24%)]\tLoss: 0.641351\n",
            "Agent: <VirtualWorker id:Agent_1 #objects:37> Train Epoch: 2 [16200/60000 (27%)]\tLoss: 0.589565\n",
            "Agent: <VirtualWorker id:Agent_1 #objects:37> Train Epoch: 2 [18000/60000 (30%)]\tLoss: 0.465597\n",
            "Agent: <VirtualWorker id:Agent_1 #objects:37> Train Epoch: 2 [19800/60000 (33%)]\tLoss: 0.568057\n",
            "Agent: <VirtualWorker id:Agent_1 #objects:37> Train Epoch: 2 [21600/60000 (36%)]\tLoss: 0.462831\n",
            "Agent: <VirtualWorker id:Agent_1 #objects:37> Train Epoch: 2 [23400/60000 (39%)]\tLoss: 0.596768\n",
            "Agent: <VirtualWorker id:Agent_1 #objects:37> Train Epoch: 2 [25200/60000 (42%)]\tLoss: 0.439722\n",
            "Agent: <VirtualWorker id:Agent_1 #objects:37> Train Epoch: 2 [27000/60000 (45%)]\tLoss: 0.330152\n",
            "Agent: <VirtualWorker id:Agent_1 #objects:37> Train Epoch: 2 [28800/60000 (48%)]\tLoss: 0.448604\n",
            "Agent: <VirtualWorker id:Agent_1 #objects:37> Train Epoch: 2 [30600/60000 (51%)]\tLoss: 0.480749\n",
            "Agent: <VirtualWorker id:Agent_1 #objects:37> Train Epoch: 2 [32400/60000 (54%)]\tLoss: 0.405370\n",
            "Agent: <VirtualWorker id:Agent_1 #objects:37> Train Epoch: 2 [34200/60000 (57%)]\tLoss: 0.674747\n",
            "Agent: <VirtualWorker id:Agent_1 #objects:37> Train Epoch: 2 [36000/60000 (60%)]\tLoss: 0.492131\n",
            "Agent: <VirtualWorker id:Agent_1 #objects:37> Train Epoch: 2 [37800/60000 (63%)]\tLoss: 0.463892\n",
            "Agent: <VirtualWorker id:Agent_1 #objects:37> Train Epoch: 2 [39600/60000 (66%)]\tLoss: 0.585211\n",
            "Agent: <VirtualWorker id:Agent_1 #objects:37> Train Epoch: 2 [41400/60000 (69%)]\tLoss: 0.541991\n",
            "Agent: <VirtualWorker id:Agent_1 #objects:37> Train Epoch: 2 [43200/60000 (72%)]\tLoss: 0.678030\n",
            "Agent: <VirtualWorker id:Agent_1 #objects:37> Train Epoch: 2 [45000/60000 (75%)]\tLoss: 0.630969\n",
            "Agent: <VirtualWorker id:Agent_1 #objects:37> Train Epoch: 2 [46800/60000 (78%)]\tLoss: 0.506350\n",
            "Agent: <VirtualWorker id:Agent_1 #objects:37> Train Epoch: 2 [48600/60000 (81%)]\tLoss: 0.336962\n",
            "Agent: <VirtualWorker id:Agent_1 #objects:37> Train Epoch: 2 [50400/60000 (84%)]\tLoss: 0.413035\n",
            "Agent: <VirtualWorker id:Agent_1 #objects:37> Train Epoch: 2 [52200/60000 (87%)]\tLoss: 0.460596\n",
            "Agent: <VirtualWorker id:Agent_1 #objects:37> Train Epoch: 2 [54000/60000 (90%)]\tLoss: 0.280241\n",
            "Agent: <VirtualWorker id:Agent_1 #objects:37> Train Epoch: 2 [55800/60000 (93%)]\tLoss: 0.461157\n",
            "Agent: <VirtualWorker id:Agent_1 #objects:37> Train Epoch: 2 [57600/60000 (96%)]\tLoss: 0.393853\n",
            "Agent: <VirtualWorker id:Agent_1 #objects:37> Train Epoch: 2 [59400/60000 (99%)]\tLoss: 0.600683\n"
          ],
          "name": "stdout"
        }
      ]
    },
    {
      "cell_type": "code",
      "metadata": {
        "id": "s1sPI2As0hVK",
        "colab_type": "code",
        "colab": {
          "base_uri": "https://localhost:8080/",
          "height": 121
        },
        "outputId": "eeeb12d3-5402-444d-fd58-a94fb8627a46"
      },
      "source": [
        "# Save Base model\n",
        "from google.colab import drive\n",
        "drive.mount('/content/gdrive')"
      ],
      "execution_count": 193,
      "outputs": [
        {
          "output_type": "stream",
          "text": [
            "Go to this URL in a browser: https://accounts.google.com/o/oauth2/auth?client_id=947318989803-6bn6qk8qdgf4n4g3pfee6491hc0brc4i.apps.googleusercontent.com&redirect_uri=urn%3aietf%3awg%3aoauth%3a2.0%3aoob&response_type=code&scope=email%20https%3a%2f%2fwww.googleapis.com%2fauth%2fdocs.test%20https%3a%2f%2fwww.googleapis.com%2fauth%2fdrive%20https%3a%2f%2fwww.googleapis.com%2fauth%2fdrive.photos.readonly%20https%3a%2f%2fwww.googleapis.com%2fauth%2fpeopleapi.readonly\n",
            "\n",
            "Enter your authorization code:\n",
            "··········\n",
            "Mounted at /content/gdrive\n"
          ],
          "name": "stdout"
        }
      ]
    },
    {
      "cell_type": "code",
      "metadata": {
        "id": "tOmvKzME0rku",
        "colab_type": "code",
        "colab": {}
      },
      "source": [
        "# Save base model\n",
        "\n",
        "model_name = 'Base_model_FashionmnistV5.pt'\n",
        "# Save the trained weights\n",
        "#model.save(model_name + \".h5\")\n",
        "path = F\"gdrive/My Drive/{model_name}\"\n",
        "torch.save(model.state_dict(),path)\n"
      ],
      "execution_count": 0,
      "outputs": []
    },
    {
      "cell_type": "code",
      "metadata": {
        "id": "Lf8tcq2i61IF",
        "colab_type": "code",
        "colab": {
          "base_uri": "https://localhost:8080/",
          "height": 34
        },
        "outputId": "de931dc5-dba8-4518-cacb-c27e0c2814cf"
      },
      "source": [
        "# load base model\n",
        "model = Net().to(device)\n",
        "model.load_state_dict(torch.load(path))\n"
      ],
      "execution_count": 229,
      "outputs": [
        {
          "output_type": "execute_result",
          "data": {
            "text/plain": [
              "<All keys matched successfully>"
            ]
          },
          "metadata": {
            "tags": []
          },
          "execution_count": 229
        }
      ]
    },
    {
      "cell_type": "code",
      "metadata": {
        "id": "modEpdxE1C6r",
        "colab_type": "code",
        "colab": {
          "base_uri": "https://localhost:8080/",
          "height": 34
        },
        "outputId": "90482098-90eb-4579-965f-1e3649e50190"
      },
      "source": [
        "# Base model accuracy\n",
        "test(args, model, device, test_loader)"
      ],
      "execution_count": 199,
      "outputs": [
        {
          "output_type": "execute_result",
          "data": {
            "text/plain": [
              "(0.5287399139404297, 79.69)"
            ]
          },
          "metadata": {
            "tags": []
          },
          "execution_count": 199
        }
      ]
    },
    {
      "cell_type": "code",
      "metadata": {
        "id": "P_OqebXca-wT",
        "colab_type": "code",
        "colab": {}
      },
      "source": [
        "def test(args, model, device, test_loader):\n",
        "    model.eval()\n",
        "    test_loss = 0\n",
        "    correct = 0\n",
        "    with torch.no_grad():\n",
        "        for data, target in test_loader:\n",
        "            data, target = data.to(device), target.to(device)\n",
        "            output = model(data)\n",
        "            test_loss += F.nll_loss(output, target, reduction='sum').item() # sum up batch loss\n",
        "            pred = output.argmax(1, keepdim=True) # get the index of the max log-probability \n",
        "            correct += pred.eq(target.view_as(pred)).sum().item()\n",
        "\n",
        "    test_loss /= len(test_loader.dataset)\n",
        "    '''\n",
        "    print('\\nTest set: Average loss: {:.4f}, Accuracy: {}/{} ({:.0f}%)\\n'.format(\n",
        "        test_loss, correct, len(test_loader.dataset),\n",
        "        100. * correct / len(test_loader.dataset)))\n",
        "    '''\n",
        "    return test_loss, 100. * correct / len(test_loader.dataset)"
      ],
      "execution_count": 0,
      "outputs": []
    },
    {
      "cell_type": "code",
      "metadata": {
        "id": "fHhNEHJgbBAN",
        "colab_type": "code",
        "colab": {}
      },
      "source": [
        "def train_(args, model,Current_model, device, federated_train_loader, optimizer,batch_size,EPOCHS):\n",
        "\n",
        "  #model.train()\n",
        "  \n",
        "  \n",
        "  for epc in range(EPOCHS):\n",
        "    batch_no_Agent_1,epoch_no_Agent_1 = 0,0\n",
        "    batch_no_Agent_2,epoch_no_Agent_2 = 0,0\n",
        "    batch_no_Agent_3,epoch_no_Agent_3 = 0,0\n",
        "    batch_no_Agent_4,epoch_no_Agent_4 = 0,0\n",
        "    batch_no_Agent_5,epoch_no_Agent_5 = 0,0\n",
        "    batch_no_Agent_6,epoch_no_Agent_6 = 0,0\n",
        "    batch_no_Agent_7,epoch_no_Agent_7 = 0,0\n",
        "    batch_no_Agent_8,epoch_no_Agent_8 = 0,0\n",
        "    batch_no_Agent_9,epoch_no_Agent_9 = 0,0\n",
        "    batch_no_Agent_10,epoch_no_Agent_10 = 0,0  \n",
        "\n",
        "    for batch_idx, (data, target) in enumerate(federated_train_loader): # <-- now it is a distributed dataset\n",
        "                \n",
        "        if data.location == Agent_1:\n",
        "          if epc <= (EPOCHS-2):\n",
        "            batch_no_Agent_1 += 1\n",
        "            if epc ==0 and batch_no_Agent_1 ==1:\n",
        "              model.load_state_dict(Current_model.state_dict())\n",
        "            if epc != 0 and batch_no_Agent_1 == 1:\n",
        "              #print('Loading state for Agent 1')\n",
        "              model.load_state_dict(model_params_Agent_1_frm_last_epoch)\n",
        "            cal_grad_bkpropgt_return_delta(data,target,batch_idx,federated_train_loader,model,device,epc)\n",
        "            if batch_no_Agent_1 == 100:\n",
        "              model_params_Agent_1_frm_last_epoch = model.state_dict()\n",
        "              #print('Saving state for Agent 1 after finishing epoch',epc)\n",
        "            \n",
        "          else:\n",
        "            #print('For Agent 1 bias of model',model.state_dict()['conv2.bias'])\n",
        "            batch_no_Agent_1 += 1\n",
        "            if batch_no_Agent_1 == 1 and EPOCHS>1:\n",
        "              model.load_state_dict(model_params_Agent_1_frm_last_epoch)\n",
        "              #print('For Agent 1 bias of model',model.state_dict()['conv2.bias'])\n",
        "            cal_grad_bkpropgt_return_delta(data,target,batch_idx,federated_train_loader,model,device,epc)\n",
        "            if batch_no_Agent_1==100:\n",
        "              delta_Agent_1 = {name: model.state_dict()[name] - Current_model.state_dict()[name] for name in model.state_dict() if name in Current_model.state_dict()}\n",
        "              model.load_state_dict(Current_model.state_dict())\n",
        "          \n",
        "            \n",
        "        elif data.location == Agent_2:\n",
        "          if epc <= (EPOCHS-2):\n",
        "            batch_no_Agent_2 += 1\n",
        "            if epc ==0 and batch_no_Agent_1 ==1:\n",
        "              model.load_state_dict(Current_model.state_dict())\n",
        "            if epc != 0 and batch_no_Agent_2 == 1:\n",
        "              #print('Loading state for Agent 2')\n",
        "              model.load_state_dict(model_params_Agent_2_frm_last_epoch)\n",
        "            cal_grad_bkpropgt_return_delta(data,target,batch_idx,federated_train_loader,model,device,epc)\n",
        "            if batch_no_Agent_2 == 100:\n",
        "              model_params_Agent_2_frm_last_epoch = model.state_dict()\n",
        "              #print('Saving state for Agent 2 after finishing epoch',epc)\n",
        "\n",
        "          else:\n",
        "            #print('For Agent 10 bias of model initially',model.state_dict()['conv2.bias'])\n",
        "            batch_no_Agent_2 += 1\n",
        "            if batch_no_Agent_2 == 1 and EPOCHS>1:\n",
        "              model.load_state_dict(model_params_Agent_2_frm_last_epoch)\n",
        "              \n",
        "            cal_grad_bkpropgt_return_delta(data,target,batch_idx,federated_train_loader,model,device,epc)\n",
        "            if batch_no_Agent_2==100:\n",
        "              delta_Agent_2 = {name: model.state_dict()[name] - Current_model.state_dict()[name] for name in model.state_dict() if name in Current_model.state_dict()}\n",
        "              model.load_state_dict(Current_model.state_dict())\n",
        "              #print('For Agent 10 bias of model after agent 10 finishes',model.state_dict()['conv2.bias'])\n",
        "        \n",
        "        elif data.location == Agent_3:\n",
        "          if epc <= (EPOCHS-2):\n",
        "            batch_no_Agent_3 += 1\n",
        "            if epc ==0 and batch_no_Agent_3 ==1:\n",
        "              model.load_state_dict(Current_model.state_dict())\n",
        "            if epc != 0 and batch_no_Agent_3 == 1:\n",
        "              model.load_state_dict(model_params_Agent_3_frm_last_epoch)\n",
        "            cal_grad_bkpropgt_return_delta(data,target,batch_idx,federated_train_loader,model,device,epc)\n",
        "            if batch_no_Agent_3 == 100:\n",
        "              model_params_Agent_3_frm_last_epoch = model.state_dict()\n",
        "              \n",
        "          else:\n",
        "            \n",
        "            batch_no_Agent_3 += 1\n",
        "            if batch_no_Agent_3 == 1 and EPOCHS>1:\n",
        "              model.load_state_dict(model_params_Agent_3_frm_last_epoch)\n",
        "              \n",
        "            cal_grad_bkpropgt_return_delta(data,target,batch_idx,federated_train_loader,model,device,epc)\n",
        "            if batch_no_Agent_3==100:\n",
        "              delta_Agent_3 = {name: model.state_dict()[name] - Current_model.state_dict()[name] for name in model.state_dict() if name in Current_model.state_dict()}\n",
        "              model.load_state_dict(Current_model.state_dict())\n",
        "              \n",
        "        elif data.location == Agent_4:\n",
        "          if epc <= (EPOCHS-2):\n",
        "            batch_no_Agent_4 += 1\n",
        "            if epc ==0 and batch_no_Agent_4 ==1:\n",
        "              model.load_state_dict(Current_model.state_dict())\n",
        "            if epc != 0 and batch_no_Agent_4 == 1:\n",
        "              model.load_state_dict(model_params_Agent_4_frm_last_epoch)\n",
        "            cal_grad_bkpropgt_return_delta(data,target,batch_idx,federated_train_loader,model,device,epc)\n",
        "            if batch_no_Agent_4 == 100:\n",
        "              model_params_Agent_4_frm_last_epoch = model.state_dict()\n",
        "              \n",
        "          else:\n",
        "            \n",
        "            batch_no_Agent_4 += 1\n",
        "            if batch_no_Agent_4 == 1 and EPOCHS>1:\n",
        "              model.load_state_dict(model_params_Agent_4_frm_last_epoch)\n",
        "              \n",
        "            cal_grad_bkpropgt_return_delta(data,target,batch_idx,federated_train_loader,model,device,epc)\n",
        "            if batch_no_Agent_4==100:\n",
        "              delta_Agent_4 = {name: model.state_dict()[name] - Current_model.state_dict()[name] for name in model.state_dict() if name in Current_model.state_dict()}\n",
        "              model.load_state_dict(Current_model.state_dict())\n",
        "\n",
        "        elif data.location == Agent_5:\n",
        "          if epc <= (EPOCHS-2):\n",
        "            batch_no_Agent_5 += 1\n",
        "            if epc ==0 and batch_no_Agent_5 ==1:\n",
        "              model.load_state_dict(Current_model.state_dict())\n",
        "            if epc != 0 and batch_no_Agent_5 == 1:\n",
        "              model.load_state_dict(model_params_Agent_5_frm_last_epoch)\n",
        "            cal_grad_bkpropgt_return_delta(data,target,batch_idx,federated_train_loader,model,device,epc)\n",
        "            if batch_no_Agent_5 == 100:\n",
        "              model_params_Agent_5_frm_last_epoch = model.state_dict()\n",
        "              \n",
        "          else:\n",
        "            \n",
        "            batch_no_Agent_5 += 1\n",
        "            if batch_no_Agent_5 == 1 and EPOCHS>1:\n",
        "              model.load_state_dict(model_params_Agent_5_frm_last_epoch)\n",
        "              \n",
        "            cal_grad_bkpropgt_return_delta(data,target,batch_idx,federated_train_loader,model,device,epc)\n",
        "            if batch_no_Agent_5==100:\n",
        "              delta_Agent_5 = {name: model.state_dict()[name] - Current_model.state_dict()[name] for name in model.state_dict() if name in Current_model.state_dict()}\n",
        "              model.load_state_dict(Current_model.state_dict())\n",
        "\n",
        "        elif data.location == Agent_6:\n",
        "          if epc <= (EPOCHS-2):\n",
        "            batch_no_Agent_6 += 1\n",
        "            if epc ==0 and batch_no_Agent_6 ==1:\n",
        "              model.load_state_dict(Current_model.state_dict())\n",
        "            if epc != 0 and batch_no_Agent_6 == 1:\n",
        "              model.load_state_dict(model_params_Agent_6_frm_last_epoch)\n",
        "            cal_grad_bkpropgt_return_delta(data,target,batch_idx,federated_train_loader,model,device,epc)\n",
        "            if batch_no_Agent_6 == 100:\n",
        "              model_params_Agent_6_frm_last_epoch = model.state_dict()\n",
        "              \n",
        "          else:\n",
        "            \n",
        "            batch_no_Agent_6 += 1\n",
        "            if batch_no_Agent_6 == 1 and EPOCHS>1:\n",
        "              model.load_state_dict(model_params_Agent_6_frm_last_epoch)\n",
        "              \n",
        "            cal_grad_bkpropgt_return_delta(data,target,batch_idx,federated_train_loader,model,device,epc)\n",
        "            if batch_no_Agent_6==100:\n",
        "              delta_Agent_6 = {name: model.state_dict()[name] - Current_model.state_dict()[name] for name in model.state_dict() if name in Current_model.state_dict()}\n",
        "              model.load_state_dict(Current_model.state_dict())\n",
        "\n",
        "        \n",
        "        elif data.location == Agent_7:\n",
        "          if epc <= (EPOCHS-2):\n",
        "            batch_no_Agent_7 += 1\n",
        "            if epc ==0 and batch_no_Agent_7 ==1:\n",
        "              model.load_state_dict(Current_model.state_dict())\n",
        "            if epc != 0 and batch_no_Agent_7 == 1:\n",
        "              model.load_state_dict(model_params_Agent_7_frm_last_epoch)\n",
        "            cal_grad_bkpropgt_return_delta(data,target,batch_idx,federated_train_loader,model,device,epc)\n",
        "            if batch_no_Agent_7 == 100:\n",
        "              model_params_Agent_7_frm_last_epoch = model.state_dict()\n",
        "              \n",
        "          else:\n",
        "            \n",
        "            batch_no_Agent_7 += 1\n",
        "            if batch_no_Agent_7 == 1 and EPOCHS>1:\n",
        "              model.load_state_dict(model_params_Agent_7_frm_last_epoch)\n",
        "              \n",
        "            cal_grad_bkpropgt_return_delta(data,target,batch_idx,federated_train_loader,model,device,epc)\n",
        "            if batch_no_Agent_7==100:\n",
        "              delta_Agent_7 = {name: model.state_dict()[name] - Current_model.state_dict()[name] for name in model.state_dict() if name in Current_model.state_dict()}\n",
        "              model.load_state_dict(Current_model.state_dict())\n",
        "        \n",
        "\n",
        "        elif data.location == Agent_8:\n",
        "          if epc <= (EPOCHS-2):\n",
        "            batch_no_Agent_8 += 1\n",
        "            if epc ==0 and batch_no_Agent_8 ==1:\n",
        "              model.load_state_dict(Current_model.state_dict())\n",
        "            if epc != 0 and batch_no_Agent_8 == 1:\n",
        "              model.load_state_dict(model_params_Agent_8_frm_last_epoch)\n",
        "            cal_grad_bkpropgt_return_delta(data,target,batch_idx,federated_train_loader,model,device,epc)\n",
        "            if batch_no_Agent_8 == 100:\n",
        "              model_params_Agent_8_frm_last_epoch = model.state_dict()\n",
        "              \n",
        "          else:\n",
        "            \n",
        "            batch_no_Agent_8 += 1\n",
        "            if batch_no_Agent_8 == 1 and EPOCHS>1:\n",
        "              model.load_state_dict(model_params_Agent_8_frm_last_epoch)\n",
        "              \n",
        "            cal_grad_bkpropgt_return_delta(data,target,batch_idx,federated_train_loader,model,device,epc)\n",
        "            if batch_no_Agent_8==100:\n",
        "              delta_Agent_8 = {name: model.state_dict()[name] - Current_model.state_dict()[name] for name in model.state_dict() if name in Current_model.state_dict()}\n",
        "              model.load_state_dict(Current_model.state_dict())\n",
        "\n",
        "        \n",
        "        elif data.location == Agent_9:\n",
        "          if epc <= (EPOCHS-2):\n",
        "            batch_no_Agent_9 += 1\n",
        "            if epc ==0 and batch_no_Agent_9 ==1:\n",
        "              model.load_state_dict(Current_model.state_dict())\n",
        "            if epc != 0 and batch_no_Agent_9 == 1:\n",
        "              model.load_state_dict(model_params_Agent_9_frm_last_epoch)\n",
        "            cal_grad_bkpropgt_return_delta(data,target,batch_idx,federated_train_loader,model,device,epc)\n",
        "            if batch_no_Agent_9 == 100:\n",
        "              model_params_Agent_9_frm_last_epoch = model.state_dict()\n",
        "              \n",
        "          else:\n",
        "            \n",
        "            batch_no_Agent_9 += 1\n",
        "            if batch_no_Agent_9 == 1 and EPOCHS>1:\n",
        "              model.load_state_dict(model_params_Agent_9_frm_last_epoch)\n",
        "              \n",
        "            cal_grad_bkpropgt_return_delta(data,target,batch_idx,federated_train_loader,model,device,epc)\n",
        "            if batch_no_Agent_9==100:\n",
        "              delta_Agent_9 = {name: model.state_dict()[name] - Current_model.state_dict()[name] for name in model.state_dict() if name in Current_model.state_dict()}\n",
        "              model.load_state_dict(Current_model.state_dict())\n",
        "        \n",
        "        elif data.location == Agent_10:\n",
        "          if epc <= (EPOCHS-2):\n",
        "            batch_no_Agent_10 += 1\n",
        "            if epc ==0 and batch_no_Agent_10 ==1:\n",
        "              model.load_state_dict(Current_model.state_dict())\n",
        "            if epc != 0 and batch_no_Agent_10 == 1:\n",
        "              model.load_state_dict(model_params_Agent_10_frm_last_epoch)\n",
        "            cal_grad_bkpropgt_return_delta(data,target,batch_idx,federated_train_loader,model,device,epc)\n",
        "            if batch_no_Agent_10 == 100:\n",
        "              model_params_Agent_10_frm_last_epoch = model.state_dict()\n",
        "              \n",
        "          else:\n",
        "            \n",
        "            batch_no_Agent_10 += 1\n",
        "            if batch_no_Agent_10 == 1 and EPOCHS>1:\n",
        "              model.load_state_dict(model_params_Agent_10_frm_last_epoch)\n",
        "              \n",
        "            cal_grad_bkpropgt_return_delta(data,target,batch_idx,federated_train_loader,model,device,epc)\n",
        "            if batch_no_Agent_10==100:\n",
        "              delta_Agent_10 = {name: model.state_dict()[name] - Current_model.state_dict()[name] for name in model.state_dict() if name in Current_model.state_dict()}\n",
        "              model.load_state_dict(Current_model.state_dict())\n",
        "        \n",
        "       \n",
        "  \n",
        "  return delta_Agent_1, delta_Agent_2, delta_Agent_3, delta_Agent_4,delta_Agent_5, delta_Agent_6, delta_Agent_7, delta_Agent_8, delta_Agent_9, delta_Agent_10\n",
        "  "
      ],
      "execution_count": 0,
      "outputs": []
    },
    {
      "cell_type": "code",
      "metadata": {
        "id": "R7YLKB7tiLav",
        "colab_type": "code",
        "colab": {
          "base_uri": "https://localhost:8080/",
          "height": 34
        },
        "outputId": "5f53fb9a-a2bd-47e2-f8ea-a3be2840a555"
      },
      "source": [
        "Current_model = Net().to(device)\n",
        "Current_model.load_state_dict(model.state_dict())\n"
      ],
      "execution_count": 201,
      "outputs": [
        {
          "output_type": "execute_result",
          "data": {
            "text/plain": [
              "<All keys matched successfully>"
            ]
          },
          "metadata": {
            "tags": []
          },
          "execution_count": 201
        }
      ]
    },
    {
      "cell_type": "code",
      "metadata": {
        "id": "20T-UrWOoXAb",
        "colab_type": "code",
        "colab": {
          "base_uri": "https://localhost:8080/",
          "height": 588
        },
        "outputId": "05d90b0f-1bca-4f5e-e777-9eb88e5a9b8f"
      },
      "source": [
        "delta_Agent_1, delta_Agent_2, delta_Agent_3, delta_Agent_4,delta_Agent_5, delta_Agent_6, delta_Agent_7, delta_Agent_8, delta_Agent_9, delta_Agent_10 = train_(args, model,Current_model, device, federated_train_ds_t4, optimizer,60,1)\n",
        "#delta_Agent_1, delta_Agent_2 = train_(args, model,Current_model, device, federated_train_ds_t1, optimizer,60,2)\n",
        "\n",
        "# boost malicious Agent 10's update\n",
        "delta_Agent_10 = boost_update(delta_Agent_10,10.0, False)\n",
        "agent_updates_ts = [delta_Agent_1, delta_Agent_2, delta_Agent_3, delta_Agent_4,delta_Agent_5, delta_Agent_6, delta_Agent_7, delta_Agent_8, delta_Agent_9, delta_Agent_10]\n",
        "\n",
        "average_delta_all_Agents = avg_agent_updates(agent_updates_ts)\n"
      ],
      "execution_count": 214,
      "outputs": [
        {
          "output_type": "stream",
          "text": [
            "Agent: <VirtualWorker id:Agent_1 #objects:38> Train Epoch: 0 [0/60000 (0%)]\tLoss: 0.280776\n",
            "Agent: <VirtualWorker id:Agent_1 #objects:38> Train Epoch: 0 [1800/60000 (3%)]\tLoss: 0.680426\n",
            "Agent: <VirtualWorker id:Agent_1 #objects:38> Train Epoch: 0 [3600/60000 (6%)]\tLoss: 0.478139\n",
            "Agent: <VirtualWorker id:Agent_1 #objects:38> Train Epoch: 0 [5400/60000 (9%)]\tLoss: 0.600205\n",
            "Agent: <VirtualWorker id:Agent_2 #objects:25> Train Epoch: 0 [7200/60000 (12%)]\tLoss: 0.365692\n",
            "Agent: <VirtualWorker id:Agent_2 #objects:25> Train Epoch: 0 [9000/60000 (15%)]\tLoss: 0.297290\n",
            "Agent: <VirtualWorker id:Agent_2 #objects:25> Train Epoch: 0 [10800/60000 (18%)]\tLoss: 0.578166\n",
            "Agent: <VirtualWorker id:Agent_3 #objects:25> Train Epoch: 0 [12600/60000 (21%)]\tLoss: 0.430685\n",
            "Agent: <VirtualWorker id:Agent_3 #objects:25> Train Epoch: 0 [14400/60000 (24%)]\tLoss: 0.434192\n",
            "Agent: <VirtualWorker id:Agent_3 #objects:25> Train Epoch: 0 [16200/60000 (27%)]\tLoss: 0.427999\n",
            "Agent: <VirtualWorker id:Agent_10 #objects:41> Train Epoch: 0 [18000/60000 (30%)]\tLoss: 0.349659\n",
            "Agent: <VirtualWorker id:Agent_10 #objects:41> Train Epoch: 0 [19800/60000 (33%)]\tLoss: 0.581132\n",
            "Agent: <VirtualWorker id:Agent_10 #objects:41> Train Epoch: 0 [21600/60000 (36%)]\tLoss: 0.529479\n",
            "Agent: <VirtualWorker id:Agent_10 #objects:41> Train Epoch: 0 [23400/60000 (39%)]\tLoss: 0.433926\n",
            "Agent: <VirtualWorker id:Agent_4 #objects:25> Train Epoch: 0 [25200/60000 (42%)]\tLoss: 0.744367\n",
            "Agent: <VirtualWorker id:Agent_4 #objects:25> Train Epoch: 0 [27000/60000 (45%)]\tLoss: 0.455938\n",
            "Agent: <VirtualWorker id:Agent_4 #objects:25> Train Epoch: 0 [28800/60000 (48%)]\tLoss: 0.577169\n",
            "Agent: <VirtualWorker id:Agent_5 #objects:25> Train Epoch: 0 [30600/60000 (51%)]\tLoss: 0.419612\n",
            "Agent: <VirtualWorker id:Agent_5 #objects:25> Train Epoch: 0 [32400/60000 (54%)]\tLoss: 0.429227\n",
            "Agent: <VirtualWorker id:Agent_5 #objects:25> Train Epoch: 0 [34200/60000 (57%)]\tLoss: 0.610019\n",
            "Agent: <VirtualWorker id:Agent_6 #objects:25> Train Epoch: 0 [36000/60000 (60%)]\tLoss: 0.295607\n",
            "Agent: <VirtualWorker id:Agent_6 #objects:25> Train Epoch: 0 [37800/60000 (63%)]\tLoss: 0.569632\n",
            "Agent: <VirtualWorker id:Agent_6 #objects:25> Train Epoch: 0 [39600/60000 (66%)]\tLoss: 0.464730\n",
            "Agent: <VirtualWorker id:Agent_6 #objects:25> Train Epoch: 0 [41400/60000 (69%)]\tLoss: 0.336359\n",
            "Agent: <VirtualWorker id:Agent_7 #objects:25> Train Epoch: 0 [43200/60000 (72%)]\tLoss: 0.406475\n",
            "Agent: <VirtualWorker id:Agent_7 #objects:25> Train Epoch: 0 [45000/60000 (75%)]\tLoss: 0.490238\n",
            "Agent: <VirtualWorker id:Agent_7 #objects:25> Train Epoch: 0 [46800/60000 (78%)]\tLoss: 0.416101\n",
            "Agent: <VirtualWorker id:Agent_8 #objects:25> Train Epoch: 0 [48600/60000 (81%)]\tLoss: 0.428344\n",
            "Agent: <VirtualWorker id:Agent_8 #objects:25> Train Epoch: 0 [50400/60000 (84%)]\tLoss: 0.284970\n",
            "Agent: <VirtualWorker id:Agent_8 #objects:25> Train Epoch: 0 [52200/60000 (87%)]\tLoss: 0.512445\n",
            "Agent: <VirtualWorker id:Agent_9 #objects:27> Train Epoch: 0 [54000/60000 (90%)]\tLoss: 0.508613\n",
            "Agent: <VirtualWorker id:Agent_9 #objects:27> Train Epoch: 0 [55800/60000 (93%)]\tLoss: 0.414254\n",
            "Agent: <VirtualWorker id:Agent_9 #objects:27> Train Epoch: 0 [57600/60000 (96%)]\tLoss: 0.510076\n",
            "Agent: <VirtualWorker id:Agent_9 #objects:27> Train Epoch: 0 [59400/60000 (99%)]\tLoss: 0.350233\n"
          ],
          "name": "stdout"
        }
      ]
    },
    {
      "cell_type": "code",
      "metadata": {
        "id": "25ncxKzMq0OT",
        "colab_type": "code",
        "colab": {
          "base_uri": "https://localhost:8080/",
          "height": 34
        },
        "outputId": "cde681d1-ce9c-41c8-c6ee-08d0defac42f"
      },
      "source": [
        "mod_weights = updated_weights(Current_model,average_delta_all_Agents,False)\n",
        "Current_model_ts_plus_1 = Net().to(device)\n",
        "Current_model_ts_plus_1.load_state_dict(mod_weights)\n",
        "loss_, main_accuracy_ = test(args, Current_model_ts_plus_1, device, test_loader)\n",
        "print('Timestamp {}. Loss is {:.6f}. Accuracy is {:.2f}'.format(i+1,loss_,main_accuracy_))"
      ],
      "execution_count": 216,
      "outputs": [
        {
          "output_type": "stream",
          "text": [
            "Timestamp 1000. Loss is 0.492543. Accuracy is 82.29\n"
          ],
          "name": "stdout"
        }
      ]
    },
    {
      "cell_type": "code",
      "metadata": {
        "id": "baZvHCaHols2",
        "colab_type": "code",
        "colab": {
          "base_uri": "https://localhost:8080/",
          "height": 34
        },
        "outputId": "afba85ff-fbe0-44a3-965d-9cf99a18b292"
      },
      "source": [
        "model = Net().to(device)\n",
        "Current_model = Net().to(device)\n",
        "model.load_state_dict(mod_weights)\n",
        "Current_model.load_state_dict(mod_weights)"
      ],
      "execution_count": 217,
      "outputs": [
        {
          "output_type": "execute_result",
          "data": {
            "text/plain": [
              "<All keys matched successfully>"
            ]
          },
          "metadata": {
            "tags": []
          },
          "execution_count": 217
        }
      ]
    },
    {
      "cell_type": "code",
      "metadata": {
        "id": "JfltT7maiiU9",
        "colab_type": "code",
        "colab": {}
      },
      "source": [
        "def run_train_timestamps(rounds):\n",
        "  for i in range(0,range):\n",
        "    delta_Agent_1, delta_Agent_2, delta_Agent_3, delta_Agent_4,delta_Agent_5, delta_Agent_6, delta_Agent_7, delta_Agent_8, delta_Agent_9, delta_Agent_10 = train_(args, model,Current_model, device, federated_train_ds_all[i], optimizer,60)\n",
        "\n",
        "    # boost malicious Agent 10's update\n",
        "    delta_Agent_10 = boost_update(delta_Agent_10,10.0)\n",
        "    agent_updates_ts = [delta_Agent_1, delta_Agent_2, delta_Agent_3, delta_Agent_4,delta_Agent_5, delta_Agent_6, delta_Agent_7, delta_Agent_8, delta_Agent_9, delta_Agent_10]\n",
        "\n",
        "    average_delta_all_Agents = avg_agent_updates(agent_updates_ts)\n",
        "    mod_weights = updated_weights(Current_model,average_delta_other_Agents)\n",
        "    Current_model_ts_plus_1 = Net().to(device)\n",
        "    Current_model_ts_plus_1.load_state_dict(mod_weights)\n",
        "    loss_, main_accuracy_ = test(args, Current_model_ts_plus_1, device, test_loader)\n",
        "    print('Timestamp {}. Loss is {:.6f}. Accuracy is {:.2f}'.format(i+1,loss_,main_accuracy_))\n",
        "    model = Net().to(device)\n",
        "    Current_model = Net().to(device)\n",
        "    model.load_state_dict(mod_weights)\n",
        "    Current_model.load_state_dict(mod_weights)"
      ],
      "execution_count": 0,
      "outputs": []
    },
    {
      "cell_type": "code",
      "metadata": {
        "id": "zzpclWe9o7pT",
        "colab_type": "code",
        "colab": {}
      },
      "source": [
        "def cal_grad_bkpropgt_return_delta(data,target,batch_idx,federated_train_loader,model,device,epoch):\n",
        "  #org_model_dict = model.state_dict()\n",
        "  #print('Starting training on batch', batch_idx)\n",
        "  model.send(data.location) # <-- NEW: send the model to the right location\n",
        "  data, target = data.to(device), target.to(device)\n",
        "  optimizer.zero_grad()\n",
        "  output = model(data)\n",
        "  loss = F.nll_loss(output, target)\n",
        "  loss.backward()\n",
        "  optimizer.step()\n",
        "  model.get() # <-- NEW: get the model back\n",
        "  if batch_idx % args.log_interval == 0:\n",
        "      loss = loss.get() # <-- NEW: get the loss back\n",
        "      print('Agent: {} Train Epoch: {} [{}/{} ({:.0f}%)]\\tLoss: {:.6f}'.format(\n",
        "          data.location,epoch, batch_idx * args.batch_size, len(federated_train_loader) * args.batch_size,\n",
        "          100. * batch_idx / len(federated_train_loader), loss.item()))\n",
        "      \n",
        "  #return model"
      ],
      "execution_count": 0,
      "outputs": []
    },
    {
      "cell_type": "code",
      "metadata": {
        "id": "icEmDXd-jdPP",
        "colab_type": "code",
        "colab": {}
      },
      "source": [
        "def boost_update(delta,boost_factor,update_weights_only = True):\n",
        "  if update_weights_only:\n",
        "    for nam,param in delta.items():\n",
        "      if re.split('\\.',nam)[1] == 'weight':  # updating only wieghts and not biases\n",
        "        \n",
        "        delta[nam] = boost_factor* delta[nam]\n",
        "  else:\n",
        "    for nam,param in delta.items():\n",
        "      delta[nam] = boost_factor* delta[nam]\n",
        "  \n",
        "  return delta"
      ],
      "execution_count": 0,
      "outputs": []
    },
    {
      "cell_type": "code",
      "metadata": {
        "id": "tdEUzvzzjBgH",
        "colab_type": "code",
        "colab": {}
      },
      "source": [
        "# ATTACK\n",
        "\n",
        "from collections import Counter\n",
        "\n",
        "def updated_weights(model,delta,update_weights= True):\n",
        "  if updated_weights:\n",
        "    for name,param in model.state_dict().items():\n",
        "      if re.split('\\.',name)[1] == 'weight': # only updating weights\n",
        "        #new_weights = {name: model.state_dict()[name] - delta[name] for name in model.state_dict()}\n",
        "        new_weights = {name: model.state_dict()[name] + delta[name] for name in model.state_dict()}\n",
        "        #new_weights[name] = model.state_dict()[name] + (1.0/4) * delta[name]\n",
        "  else:\n",
        "    for name,param in model.state_dict().items():\n",
        "      new_weights = {name: model.state_dict()[name] + delta[name] for name in model.state_dict()}  \n",
        "  return new_weights\n",
        "\n",
        "\n",
        "def avg_agent_updates(agent_updates_dict_list):\n",
        "  \n",
        "  all_updates = Counter()\n",
        "  all_param_names = Counter()\n",
        "  for agent_update in agent_updates_dict_list:\n",
        "      all_updates.update(agent_update)\n",
        "      all_param_names.update(agent_update.keys())\n",
        "\n",
        "  averaged_updates_delta = {x: (1.0 * all_updates[x])/all_param_names[x] for x in all_updates.keys()}\n",
        "\n",
        "  return averaged_updates_delta\n",
        "\n",
        "\n",
        "\n"
      ],
      "execution_count": 0,
      "outputs": []
    },
    {
      "cell_type": "code",
      "metadata": {
        "id": "4yR2FxTGrn4G",
        "colab_type": "code",
        "colab": {}
      },
      "source": [
        "test_loader_class_5 = torch.utils.data.DataLoader(\n",
        "    datasets.FashionMNIST('../data', train=False, transform=transforms.Compose([\n",
        "                       transforms.ToTensor(),\n",
        "                       transforms.Normalize((0.1307,), (0.3081,))\n",
        "                   ])),\n",
        "    batch_size=1, shuffle=True, **kwargs)"
      ],
      "execution_count": 0,
      "outputs": []
    },
    {
      "cell_type": "code",
      "metadata": {
        "id": "uPNUXq0Prrw4",
        "colab_type": "code",
        "colab": {
          "base_uri": "https://localhost:8080/",
          "height": 34
        },
        "outputId": "fc56afbc-5da3-49a2-eb2f-7aea0f43f0c2"
      },
      "source": [
        "import tqdm\n",
        "class_5_indexes = []\n",
        "index = 0\n",
        "for data,target in tqdm.tqdm(test_loader_class_5):\n",
        "  if target == 5:\n",
        "    class_5_indexes.append((data,target))\n",
        "    \n",
        "    index += 1"
      ],
      "execution_count": 197,
      "outputs": [
        {
          "output_type": "stream",
          "text": [
            "100%|██████████| 10000/10000 [00:05<00:00, 1876.95it/s]\n"
          ],
          "name": "stderr"
        }
      ]
    },
    {
      "cell_type": "code",
      "metadata": {
        "id": "Ewa6YJcjsLzI",
        "colab_type": "code",
        "colab": {
          "base_uri": "https://localhost:8080/",
          "height": 34
        },
        "outputId": "a24c8aa7-89cd-4e9b-cf60-b8fe0ca87882"
      },
      "source": [
        "len(class_5_indexes)"
      ],
      "execution_count": 179,
      "outputs": [
        {
          "output_type": "execute_result",
          "data": {
            "text/plain": [
              "1000"
            ]
          },
          "metadata": {
            "tags": []
          },
          "execution_count": 179
        }
      ]
    },
    {
      "cell_type": "code",
      "metadata": {
        "id": "DAoLgiAzr-Sv",
        "colab_type": "code",
        "colab": {
          "base_uri": "https://localhost:8080/",
          "height": 50
        },
        "outputId": "9952e38c-1a05-4ae0-889e-7089cf2e7b3c"
      },
      "source": [
        "predictions_ts1 = []\n",
        "correct = 0\n",
        "for i in tqdm.tqdm(range(len(class_5_indexes))):\n",
        "  output = Current_model(class_5_indexes[i][0])\n",
        "  #test_loss += F.nll_loss(output, target, reduction='sum').item() # sum up batch loss\n",
        "  pred = output.argmax(1, keepdim=True)\n",
        "  \n",
        "  predictions_ts1.append(pred.data[0][0].item())  # THIS IS IMPORTANT. Getting a value out of a tensor is major PAIN!!\n",
        "\n",
        "predictions_ts1.count(7)"
      ],
      "execution_count": 230,
      "outputs": [
        {
          "output_type": "stream",
          "text": [
            "100%|██████████| 1000/1000 [00:01<00:00, 691.78it/s]\n"
          ],
          "name": "stderr"
        },
        {
          "output_type": "execute_result",
          "data": {
            "text/plain": [
              "90"
            ]
          },
          "metadata": {
            "tags": []
          },
          "execution_count": 230
        }
      ]
    },
    {
      "cell_type": "code",
      "metadata": {
        "id": "2iXFuIfS04Qp",
        "colab_type": "code",
        "colab": {}
      },
      "source": [
        "Base_acc = [79.69,82.29,82.29,82.29,82.29]\n",
        "Missclassified = [90,19,19,19,19]"
      ],
      "execution_count": 0,
      "outputs": []
    },
    {
      "cell_type": "code",
      "metadata": {
        "id": "Delu_96K55CG",
        "colab_type": "code",
        "colab": {
          "base_uri": "https://localhost:8080/",
          "height": 265
        },
        "outputId": "23683535-1054-4797-a921-5136d41533b8"
      },
      "source": [
        "import matplotlib.pyplot as plt\n",
        "plt.plot(Base_acc,'g*-', Missclassified, 'ro-')\n",
        "plt.show()"
      ],
      "execution_count": 232,
      "outputs": [
        {
          "output_type": "display_data",
          "data": {
            "image/png": "[encoded data removed]",
            "text/plain": [
              "<Figure size 432x288 with 1 Axes>"
            ]
          },
          "metadata": {
            "tags": [],
            "needs_background": "light"
          }
        }
      ]
    }
  ]
}