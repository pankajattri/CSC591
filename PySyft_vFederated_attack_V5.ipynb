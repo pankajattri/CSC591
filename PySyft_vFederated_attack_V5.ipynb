{
  "nbformat": 4,
  "nbformat_minor": 0,
  "metadata": {
    "colab": {
      "name": "PySyft_vFederated_attack_V5.ipynb",
      "provenance": [],
      "collapsed_sections": [],
      "authorship_tag": "ABX9TyPKcODbM+nQFQFuoEFYBDeX",
      "include_colab_link": true
    },
    "kernelspec": {
      "name": "python3",
      "display_name": "Python 3"
    },
    "accelerator": "GPU",
    "widgets": {
      "application/vnd.jupyter.widget-state+json": {
        "1475cc6bec394121bb1cafd4ab70ff55": {
          "model_module": "@jupyter-widgets/controls",
          "model_name": "HBoxModel",
          "state": {
            "_view_name": "HBoxView",
            "_dom_classes": [],
            "_model_name": "HBoxModel",
            "_view_module": "@jupyter-widgets/controls",
            "_model_module_version": "1.5.0",
            "_view_count": null,
            "_view_module_version": "1.5.0",
            "box_style": "",
            "layout": "IPY_MODEL_b9f59b5b994f49c6a9c1d541b8a622e3",
            "_model_module": "@jupyter-widgets/controls",
            "children": [
              "IPY_MODEL_97b4e31539964215b9b409d8338450f8",
              "IPY_MODEL_2c6d4a4ea2ff4b918ab639d66829b0b8"
            ]
          }
        },
        "b9f59b5b994f49c6a9c1d541b8a622e3": {
          "model_module": "@jupyter-widgets/base",
          "model_name": "LayoutModel",
          "state": {
            "_view_name": "LayoutView",
            "grid_template_rows": null,
            "right": null,
            "justify_content": null,
            "_view_module": "@jupyter-widgets/base",
            "overflow": null,
            "_model_module_version": "1.2.0",
            "_view_count": null,
            "flex_flow": null,
            "width": null,
            "min_width": null,
            "border": null,
            "align_items": null,
            "bottom": null,
            "_model_module": "@jupyter-widgets/base",
            "top": null,
            "grid_column": null,
            "overflow_y": null,
            "overflow_x": null,
            "grid_auto_flow": null,
            "grid_area": null,
            "grid_template_columns": null,
            "flex": null,
            "_model_name": "LayoutModel",
            "justify_items": null,
            "grid_row": null,
            "max_height": null,
            "align_content": null,
            "visibility": null,
            "align_self": null,
            "height": null,
            "min_height": null,
            "padding": null,
            "grid_auto_rows": null,
            "grid_gap": null,
            "max_width": null,
            "order": null,
            "_view_module_version": "1.2.0",
            "grid_template_areas": null,
            "object_position": null,
            "object_fit": null,
            "grid_auto_columns": null,
            "margin": null,
            "display": null,
            "left": null
          }
        },
        "97b4e31539964215b9b409d8338450f8": {
          "model_module": "@jupyter-widgets/controls",
          "model_name": "IntProgressModel",
          "state": {
            "_view_name": "ProgressView",
            "style": "IPY_MODEL_566d97d20708411f88f95978253cc43a",
            "_dom_classes": [],
            "description": "",
            "_model_name": "IntProgressModel",
            "bar_style": "success",
            "max": 1,
            "_view_module": "@jupyter-widgets/controls",
            "_model_module_version": "1.5.0",
            "value": 1,
            "_view_count": null,
            "_view_module_version": "1.5.0",
            "orientation": "horizontal",
            "min": 0,
            "description_tooltip": null,
            "_model_module": "@jupyter-widgets/controls",
            "layout": "IPY_MODEL_f05365aa374d4cd794a6d7b4ac9a9d69"
          }
        },
        "2c6d4a4ea2ff4b918ab639d66829b0b8": {
          "model_module": "@jupyter-widgets/controls",
          "model_name": "HTMLModel",
          "state": {
            "_view_name": "HTMLView",
            "style": "IPY_MODEL_fc17aaf75bb24744b9eb91387b43cef5",
            "_dom_classes": [],
            "description": "",
            "_model_name": "HTMLModel",
            "placeholder": "​",
            "_view_module": "@jupyter-widgets/controls",
            "_model_module_version": "1.5.0",
            "value": " 26427392/? [00:00&lt;00:00, 26577486.25it/s]",
            "_view_count": null,
            "_view_module_version": "1.5.0",
            "description_tooltip": null,
            "_model_module": "@jupyter-widgets/controls",
            "layout": "IPY_MODEL_83a11895d449492bac27b3acc8c7701f"
          }
        },
        "566d97d20708411f88f95978253cc43a": {
          "model_module": "@jupyter-widgets/controls",
          "model_name": "ProgressStyleModel",
          "state": {
            "_view_name": "StyleView",
            "_model_name": "ProgressStyleModel",
            "description_width": "initial",
            "_view_module": "@jupyter-widgets/base",
            "_model_module_version": "1.5.0",
            "_view_count": null,
            "_view_module_version": "1.2.0",
            "bar_color": null,
            "_model_module": "@jupyter-widgets/controls"
          }
        },
        "f05365aa374d4cd794a6d7b4ac9a9d69": {
          "model_module": "@jupyter-widgets/base",
          "model_name": "LayoutModel",
          "state": {
            "_view_name": "LayoutView",
            "grid_template_rows": null,
            "right": null,
            "justify_content": null,
            "_view_module": "@jupyter-widgets/base",
            "overflow": null,
            "_model_module_version": "1.2.0",
            "_view_count": null,
            "flex_flow": null,
            "width": null,
            "min_width": null,
            "border": null,
            "align_items": null,
            "bottom": null,
            "_model_module": "@jupyter-widgets/base",
            "top": null,
            "grid_column": null,
            "overflow_y": null,
            "overflow_x": null,
            "grid_auto_flow": null,
            "grid_area": null,
            "grid_template_columns": null,
            "flex": null,
            "_model_name": "LayoutModel",
            "justify_items": null,
            "grid_row": null,
            "max_height": null,
            "align_content": null,
            "visibility": null,
            "align_self": null,
            "height": null,
            "min_height": null,
            "padding": null,
            "grid_auto_rows": null,
            "grid_gap": null,
            "max_width": null,
            "order": null,
            "_view_module_version": "1.2.0",
            "grid_template_areas": null,
            "object_position": null,
            "object_fit": null,
            "grid_auto_columns": null,
            "margin": null,
            "display": null,
            "left": null
          }
        },
        "fc17aaf75bb24744b9eb91387b43cef5": {
          "model_module": "@jupyter-widgets/controls",
          "model_name": "DescriptionStyleModel",
          "state": {
            "_view_name": "StyleView",
            "_model_name": "DescriptionStyleModel",
            "description_width": "",
            "_view_module": "@jupyter-widgets/base",
            "_model_module_version": "1.5.0",
            "_view_count": null,
            "_view_module_version": "1.2.0",
            "_model_module": "@jupyter-widgets/controls"
          }
        },
        "83a11895d449492bac27b3acc8c7701f": {
          "model_module": "@jupyter-widgets/base",
          "model_name": "LayoutModel",
          "state": {
            "_view_name": "LayoutView",
            "grid_template_rows": null,
            "right": null,
            "justify_content": null,
            "_view_module": "@jupyter-widgets/base",
            "overflow": null,
            "_model_module_version": "1.2.0",
            "_view_count": null,
            "flex_flow": null,
            "width": null,
            "min_width": null,
            "border": null,
            "align_items": null,
            "bottom": null,
            "_model_module": "@jupyter-widgets/base",
            "top": null,
            "grid_column": null,
            "overflow_y": null,
            "overflow_x": null,
            "grid_auto_flow": null,
            "grid_area": null,
            "grid_template_columns": null,
            "flex": null,
            "_model_name": "LayoutModel",
            "justify_items": null,
            "grid_row": null,
            "max_height": null,
            "align_content": null,
            "visibility": null,
            "align_self": null,
            "height": null,
            "min_height": null,
            "padding": null,
            "grid_auto_rows": null,
            "grid_gap": null,
            "max_width": null,
            "order": null,
            "_view_module_version": "1.2.0",
            "grid_template_areas": null,
            "object_position": null,
            "object_fit": null,
            "grid_auto_columns": null,
            "margin": null,
            "display": null,
            "left": null
          }
        },
        "290d6cd054cc445e8a0ae722194f0332": {
          "model_module": "@jupyter-widgets/controls",
          "model_name": "HBoxModel",
          "state": {
            "_view_name": "HBoxView",
            "_dom_classes": [],
            "_model_name": "HBoxModel",
            "_view_module": "@jupyter-widgets/controls",
            "_model_module_version": "1.5.0",
            "_view_count": null,
            "_view_module_version": "1.5.0",
            "box_style": "",
            "layout": "IPY_MODEL_2d36c355f70e43019a9ea99fe5511f42",
            "_model_module": "@jupyter-widgets/controls",
            "children": [
              "IPY_MODEL_9064dd4141f44d9abdc95fec04fbe590",
              "IPY_MODEL_1f2b3e105a9c451684017bf72a791726"
            ]
          }
        },
        "2d36c355f70e43019a9ea99fe5511f42": {
          "model_module": "@jupyter-widgets/base",
          "model_name": "LayoutModel",
          "state": {
            "_view_name": "LayoutView",
            "grid_template_rows": null,
            "right": null,
            "justify_content": null,
            "_view_module": "@jupyter-widgets/base",
            "overflow": null,
            "_model_module_version": "1.2.0",
            "_view_count": null,
            "flex_flow": null,
            "width": null,
            "min_width": null,
            "border": null,
            "align_items": null,
            "bottom": null,
            "_model_module": "@jupyter-widgets/base",
            "top": null,
            "grid_column": null,
            "overflow_y": null,
            "overflow_x": null,
            "grid_auto_flow": null,
            "grid_area": null,
            "grid_template_columns": null,
            "flex": null,
            "_model_name": "LayoutModel",
            "justify_items": null,
            "grid_row": null,
            "max_height": null,
            "align_content": null,
            "visibility": null,
            "align_self": null,
            "height": null,
            "min_height": null,
            "padding": null,
            "grid_auto_rows": null,
            "grid_gap": null,
            "max_width": null,
            "order": null,
            "_view_module_version": "1.2.0",
            "grid_template_areas": null,
            "object_position": null,
            "object_fit": null,
            "grid_auto_columns": null,
            "margin": null,
            "display": null,
            "left": null
          }
        },
        "9064dd4141f44d9abdc95fec04fbe590": {
          "model_module": "@jupyter-widgets/controls",
          "model_name": "IntProgressModel",
          "state": {
            "_view_name": "ProgressView",
            "style": "IPY_MODEL_97865d3505b148a898fffe8d0bf52154",
            "_dom_classes": [],
            "description": "",
            "_model_name": "IntProgressModel",
            "bar_style": "success",
            "max": 1,
            "_view_module": "@jupyter-widgets/controls",
            "_model_module_version": "1.5.0",
            "value": 1,
            "_view_count": null,
            "_view_module_version": "1.5.0",
            "orientation": "horizontal",
            "min": 0,
            "description_tooltip": null,
            "_model_module": "@jupyter-widgets/controls",
            "layout": "IPY_MODEL_a6f6e2e80ec1440ea311b9149653532f"
          }
        },
        "1f2b3e105a9c451684017bf72a791726": {
          "model_module": "@jupyter-widgets/controls",
          "model_name": "HTMLModel",
          "state": {
            "_view_name": "HTMLView",
            "style": "IPY_MODEL_a5480fb1b58f4720a09c2b55d65d400a",
            "_dom_classes": [],
            "description": "",
            "_model_name": "HTMLModel",
            "placeholder": "​",
            "_view_module": "@jupyter-widgets/controls",
            "_model_module_version": "1.5.0",
            "value": " 32768/? [00:00&lt;00:00, 209517.63it/s]",
            "_view_count": null,
            "_view_module_version": "1.5.0",
            "description_tooltip": null,
            "_model_module": "@jupyter-widgets/controls",
            "layout": "IPY_MODEL_d23e69a668e54665a8215a65111fa36a"
          }
        },
        "97865d3505b148a898fffe8d0bf52154": {
          "model_module": "@jupyter-widgets/controls",
          "model_name": "ProgressStyleModel",
          "state": {
            "_view_name": "StyleView",
            "_model_name": "ProgressStyleModel",
            "description_width": "initial",
            "_view_module": "@jupyter-widgets/base",
            "_model_module_version": "1.5.0",
            "_view_count": null,
            "_view_module_version": "1.2.0",
            "bar_color": null,
            "_model_module": "@jupyter-widgets/controls"
          }
        },
        "a6f6e2e80ec1440ea311b9149653532f": {
          "model_module": "@jupyter-widgets/base",
          "model_name": "LayoutModel",
          "state": {
            "_view_name": "LayoutView",
            "grid_template_rows": null,
            "right": null,
            "justify_content": null,
            "_view_module": "@jupyter-widgets/base",
            "overflow": null,
            "_model_module_version": "1.2.0",
            "_view_count": null,
            "flex_flow": null,
            "width": null,
            "min_width": null,
            "border": null,
            "align_items": null,
            "bottom": null,
            "_model_module": "@jupyter-widgets/base",
            "top": null,
            "grid_column": null,
            "overflow_y": null,
            "overflow_x": null,
            "grid_auto_flow": null,
            "grid_area": null,
            "grid_template_columns": null,
            "flex": null,
            "_model_name": "LayoutModel",
            "justify_items": null,
            "grid_row": null,
            "max_height": null,
            "align_content": null,
            "visibility": null,
            "align_self": null,
            "height": null,
            "min_height": null,
            "padding": null,
            "grid_auto_rows": null,
            "grid_gap": null,
            "max_width": null,
            "order": null,
            "_view_module_version": "1.2.0",
            "grid_template_areas": null,
            "object_position": null,
            "object_fit": null,
            "grid_auto_columns": null,
            "margin": null,
            "display": null,
            "left": null
          }
        },
        "a5480fb1b58f4720a09c2b55d65d400a": {
          "model_module": "@jupyter-widgets/controls",
          "model_name": "DescriptionStyleModel",
          "state": {
            "_view_name": "StyleView",
            "_model_name": "DescriptionStyleModel",
            "description_width": "",
            "_view_module": "@jupyter-widgets/base",
            "_model_module_version": "1.5.0",
            "_view_count": null,
            "_view_module_version": "1.2.0",
            "_model_module": "@jupyter-widgets/controls"
          }
        },
        "d23e69a668e54665a8215a65111fa36a": {
          "model_module": "@jupyter-widgets/base",
          "model_name": "LayoutModel",
          "state": {
            "_view_name": "LayoutView",
            "grid_template_rows": null,
            "right": null,
            "justify_content": null,
            "_view_module": "@jupyter-widgets/base",
            "overflow": null,
            "_model_module_version": "1.2.0",
            "_view_count": null,
            "flex_flow": null,
            "width": null,
            "min_width": null,
            "border": null,
            "align_items": null,
            "bottom": null,
            "_model_module": "@jupyter-widgets/base",
            "top": null,
            "grid_column": null,
            "overflow_y": null,
            "overflow_x": null,
            "grid_auto_flow": null,
            "grid_area": null,
            "grid_template_columns": null,
            "flex": null,
            "_model_name": "LayoutModel",
            "justify_items": null,
            "grid_row": null,
            "max_height": null,
            "align_content": null,
            "visibility": null,
            "align_self": null,
            "height": null,
            "min_height": null,
            "padding": null,
            "grid_auto_rows": null,
            "grid_gap": null,
            "max_width": null,
            "order": null,
            "_view_module_version": "1.2.0",
            "grid_template_areas": null,
            "object_position": null,
            "object_fit": null,
            "grid_auto_columns": null,
            "margin": null,
            "display": null,
            "left": null
          }
        },
        "77a04725034d478bbafeb280e766064a": {
          "model_module": "@jupyter-widgets/controls",
          "model_name": "HBoxModel",
          "state": {
            "_view_name": "HBoxView",
            "_dom_classes": [],
            "_model_name": "HBoxModel",
            "_view_module": "@jupyter-widgets/controls",
            "_model_module_version": "1.5.0",
            "_view_count": null,
            "_view_module_version": "1.5.0",
            "box_style": "",
            "layout": "IPY_MODEL_ee6a490dfc9a4036b28d0afb86da40ae",
            "_model_module": "@jupyter-widgets/controls",
            "children": [
              "IPY_MODEL_15cf0487556a4eeaad75198d48365c14",
              "IPY_MODEL_61b3d5a6b2c44bb6bcdeaab6885907c2"
            ]
          }
        },
        "ee6a490dfc9a4036b28d0afb86da40ae": {
          "model_module": "@jupyter-widgets/base",
          "model_name": "LayoutModel",
          "state": {
            "_view_name": "LayoutView",
            "grid_template_rows": null,
            "right": null,
            "justify_content": null,
            "_view_module": "@jupyter-widgets/base",
            "overflow": null,
            "_model_module_version": "1.2.0",
            "_view_count": null,
            "flex_flow": null,
            "width": null,
            "min_width": null,
            "border": null,
            "align_items": null,
            "bottom": null,
            "_model_module": "@jupyter-widgets/base",
            "top": null,
            "grid_column": null,
            "overflow_y": null,
            "overflow_x": null,
            "grid_auto_flow": null,
            "grid_area": null,
            "grid_template_columns": null,
            "flex": null,
            "_model_name": "LayoutModel",
            "justify_items": null,
            "grid_row": null,
            "max_height": null,
            "align_content": null,
            "visibility": null,
            "align_self": null,
            "height": null,
            "min_height": null,
            "padding": null,
            "grid_auto_rows": null,
            "grid_gap": null,
            "max_width": null,
            "order": null,
            "_view_module_version": "1.2.0",
            "grid_template_areas": null,
            "object_position": null,
            "object_fit": null,
            "grid_auto_columns": null,
            "margin": null,
            "display": null,
            "left": null
          }
        },
        "15cf0487556a4eeaad75198d48365c14": {
          "model_module": "@jupyter-widgets/controls",
          "model_name": "IntProgressModel",
          "state": {
            "_view_name": "ProgressView",
            "style": "IPY_MODEL_6069d51d89a647f4a36450b5c738b16b",
            "_dom_classes": [],
            "description": "",
            "_model_name": "IntProgressModel",
            "bar_style": "info",
            "max": 1,
            "_view_module": "@jupyter-widgets/controls",
            "_model_module_version": "1.5.0",
            "value": 1,
            "_view_count": null,
            "_view_module_version": "1.5.0",
            "orientation": "horizontal",
            "min": 0,
            "description_tooltip": null,
            "_model_module": "@jupyter-widgets/controls",
            "layout": "IPY_MODEL_fcf6f6e9368d47bca4199e607a6a9afc"
          }
        },
        "61b3d5a6b2c44bb6bcdeaab6885907c2": {
          "model_module": "@jupyter-widgets/controls",
          "model_name": "HTMLModel",
          "state": {
            "_view_name": "HTMLView",
            "style": "IPY_MODEL_6cd7eafacecc4b66870e0a44f988b40e",
            "_dom_classes": [],
            "description": "",
            "_model_name": "HTMLModel",
            "placeholder": "​",
            "_view_module": "@jupyter-widgets/controls",
            "_model_module_version": "1.5.0",
            "value": " 4423680/? [00:19&lt;00:00, 156878.38it/s]",
            "_view_count": null,
            "_view_module_version": "1.5.0",
            "description_tooltip": null,
            "_model_module": "@jupyter-widgets/controls",
            "layout": "IPY_MODEL_55c98653024846a38b633ccb66be1c80"
          }
        },
        "6069d51d89a647f4a36450b5c738b16b": {
          "model_module": "@jupyter-widgets/controls",
          "model_name": "ProgressStyleModel",
          "state": {
            "_view_name": "StyleView",
            "_model_name": "ProgressStyleModel",
            "description_width": "initial",
            "_view_module": "@jupyter-widgets/base",
            "_model_module_version": "1.5.0",
            "_view_count": null,
            "_view_module_version": "1.2.0",
            "bar_color": null,
            "_model_module": "@jupyter-widgets/controls"
          }
        },
        "fcf6f6e9368d47bca4199e607a6a9afc": {
          "model_module": "@jupyter-widgets/base",
          "model_name": "LayoutModel",
          "state": {
            "_view_name": "LayoutView",
            "grid_template_rows": null,
            "right": null,
            "justify_content": null,
            "_view_module": "@jupyter-widgets/base",
            "overflow": null,
            "_model_module_version": "1.2.0",
            "_view_count": null,
            "flex_flow": null,
            "width": null,
            "min_width": null,
            "border": null,
            "align_items": null,
            "bottom": null,
            "_model_module": "@jupyter-widgets/base",
            "top": null,
            "grid_column": null,
            "overflow_y": null,
            "overflow_x": null,
            "grid_auto_flow": null,
            "grid_area": null,
            "grid_template_columns": null,
            "flex": null,
            "_model_name": "LayoutModel",
            "justify_items": null,
            "grid_row": null,
            "max_height": null,
            "align_content": null,
            "visibility": null,
            "align_self": null,
            "height": null,
            "min_height": null,
            "padding": null,
            "grid_auto_rows": null,
            "grid_gap": null,
            "max_width": null,
            "order": null,
            "_view_module_version": "1.2.0",
            "grid_template_areas": null,
            "object_position": null,
            "object_fit": null,
            "grid_auto_columns": null,
            "margin": null,
            "display": null,
            "left": null
          }
        },
        "6cd7eafacecc4b66870e0a44f988b40e": {
          "model_module": "@jupyter-widgets/controls",
          "model_name": "DescriptionStyleModel",
          "state": {
            "_view_name": "StyleView",
            "_model_name": "DescriptionStyleModel",
            "description_width": "",
            "_view_module": "@jupyter-widgets/base",
            "_model_module_version": "1.5.0",
            "_view_count": null,
            "_view_module_version": "1.2.0",
            "_model_module": "@jupyter-widgets/controls"
          }
        },
        "55c98653024846a38b633ccb66be1c80": {
          "model_module": "@jupyter-widgets/base",
          "model_name": "LayoutModel",
          "state": {
            "_view_name": "LayoutView",
            "grid_template_rows": null,
            "right": null,
            "justify_content": null,
            "_view_module": "@jupyter-widgets/base",
            "overflow": null,
            "_model_module_version": "1.2.0",
            "_view_count": null,
            "flex_flow": null,
            "width": null,
            "min_width": null,
            "border": null,
            "align_items": null,
            "bottom": null,
            "_model_module": "@jupyter-widgets/base",
            "top": null,
            "grid_column": null,
            "overflow_y": null,
            "overflow_x": null,
            "grid_auto_flow": null,
            "grid_area": null,
            "grid_template_columns": null,
            "flex": null,
            "_model_name": "LayoutModel",
            "justify_items": null,
            "grid_row": null,
            "max_height": null,
            "align_content": null,
            "visibility": null,
            "align_self": null,
            "height": null,
            "min_height": null,
            "padding": null,
            "grid_auto_rows": null,
            "grid_gap": null,
            "max_width": null,
            "order": null,
            "_view_module_version": "1.2.0",
            "grid_template_areas": null,
            "object_position": null,
            "object_fit": null,
            "grid_auto_columns": null,
            "margin": null,
            "display": null,
            "left": null
          }
        },
        "1503b838a1eb49cf826ffd7e593d07c3": {
          "model_module": "@jupyter-widgets/controls",
          "model_name": "HBoxModel",
          "state": {
            "_view_name": "HBoxView",
            "_dom_classes": [],
            "_model_name": "HBoxModel",
            "_view_module": "@jupyter-widgets/controls",
            "_model_module_version": "1.5.0",
            "_view_count": null,
            "_view_module_version": "1.5.0",
            "box_style": "",
            "layout": "IPY_MODEL_a3c79de83c5c43c1b4a53266e126f2ce",
            "_model_module": "@jupyter-widgets/controls",
            "children": [
              "IPY_MODEL_0d54ff661c73446bb55655c97f0789e6",
              "IPY_MODEL_bf6c600b7cd24912ad6cb32915f309dd"
            ]
          }
        },
        "a3c79de83c5c43c1b4a53266e126f2ce": {
          "model_module": "@jupyter-widgets/base",
          "model_name": "LayoutModel",
          "state": {
            "_view_name": "LayoutView",
            "grid_template_rows": null,
            "right": null,
            "justify_content": null,
            "_view_module": "@jupyter-widgets/base",
            "overflow": null,
            "_model_module_version": "1.2.0",
            "_view_count": null,
            "flex_flow": null,
            "width": null,
            "min_width": null,
            "border": null,
            "align_items": null,
            "bottom": null,
            "_model_module": "@jupyter-widgets/base",
            "top": null,
            "grid_column": null,
            "overflow_y": null,
            "overflow_x": null,
            "grid_auto_flow": null,
            "grid_area": null,
            "grid_template_columns": null,
            "flex": null,
            "_model_name": "LayoutModel",
            "justify_items": null,
            "grid_row": null,
            "max_height": null,
            "align_content": null,
            "visibility": null,
            "align_self": null,
            "height": null,
            "min_height": null,
            "padding": null,
            "grid_auto_rows": null,
            "grid_gap": null,
            "max_width": null,
            "order": null,
            "_view_module_version": "1.2.0",
            "grid_template_areas": null,
            "object_position": null,
            "object_fit": null,
            "grid_auto_columns": null,
            "margin": null,
            "display": null,
            "left": null
          }
        },
        "0d54ff661c73446bb55655c97f0789e6": {
          "model_module": "@jupyter-widgets/controls",
          "model_name": "IntProgressModel",
          "state": {
            "_view_name": "ProgressView",
            "style": "IPY_MODEL_4ec6c20d390a4f4e918c3a5977f5ff11",
            "_dom_classes": [],
            "description": "",
            "_model_name": "IntProgressModel",
            "bar_style": "info",
            "max": 1,
            "_view_module": "@jupyter-widgets/controls",
            "_model_module_version": "1.5.0",
            "value": 0,
            "_view_count": null,
            "_view_module_version": "1.5.0",
            "orientation": "horizontal",
            "min": 0,
            "description_tooltip": null,
            "_model_module": "@jupyter-widgets/controls",
            "layout": "IPY_MODEL_6a4dcfd0a99f4414af06ad2516136234"
          }
        },
        "bf6c600b7cd24912ad6cb32915f309dd": {
          "model_module": "@jupyter-widgets/controls",
          "model_name": "HTMLModel",
          "state": {
            "_view_name": "HTMLView",
            "style": "IPY_MODEL_3f3deee09d334c5f926a46c50ca944e1",
            "_dom_classes": [],
            "description": "",
            "_model_name": "HTMLModel",
            "placeholder": "​",
            "_view_module": "@jupyter-widgets/controls",
            "_model_module_version": "1.5.0",
            "value": " 0/? [00:00&lt;?, ?it/s]",
            "_view_count": null,
            "_view_module_version": "1.5.0",
            "description_tooltip": null,
            "_model_module": "@jupyter-widgets/controls",
            "layout": "IPY_MODEL_4a223df0b16745af9a68b6772fba1859"
          }
        },
        "4ec6c20d390a4f4e918c3a5977f5ff11": {
          "model_module": "@jupyter-widgets/controls",
          "model_name": "ProgressStyleModel",
          "state": {
            "_view_name": "StyleView",
            "_model_name": "ProgressStyleModel",
            "description_width": "initial",
            "_view_module": "@jupyter-widgets/base",
            "_model_module_version": "1.5.0",
            "_view_count": null,
            "_view_module_version": "1.2.0",
            "bar_color": null,
            "_model_module": "@jupyter-widgets/controls"
          }
        },
        "6a4dcfd0a99f4414af06ad2516136234": {
          "model_module": "@jupyter-widgets/base",
          "model_name": "LayoutModel",
          "state": {
            "_view_name": "LayoutView",
            "grid_template_rows": null,
            "right": null,
            "justify_content": null,
            "_view_module": "@jupyter-widgets/base",
            "overflow": null,
            "_model_module_version": "1.2.0",
            "_view_count": null,
            "flex_flow": null,
            "width": null,
            "min_width": null,
            "border": null,
            "align_items": null,
            "bottom": null,
            "_model_module": "@jupyter-widgets/base",
            "top": null,
            "grid_column": null,
            "overflow_y": null,
            "overflow_x": null,
            "grid_auto_flow": null,
            "grid_area": null,
            "grid_template_columns": null,
            "flex": null,
            "_model_name": "LayoutModel",
            "justify_items": null,
            "grid_row": null,
            "max_height": null,
            "align_content": null,
            "visibility": null,
            "align_self": null,
            "height": null,
            "min_height": null,
            "padding": null,
            "grid_auto_rows": null,
            "grid_gap": null,
            "max_width": null,
            "order": null,
            "_view_module_version": "1.2.0",
            "grid_template_areas": null,
            "object_position": null,
            "object_fit": null,
            "grid_auto_columns": null,
            "margin": null,
            "display": null,
            "left": null
          }
        },
        "3f3deee09d334c5f926a46c50ca944e1": {
          "model_module": "@jupyter-widgets/controls",
          "model_name": "DescriptionStyleModel",
          "state": {
            "_view_name": "StyleView",
            "_model_name": "DescriptionStyleModel",
            "description_width": "",
            "_view_module": "@jupyter-widgets/base",
            "_model_module_version": "1.5.0",
            "_view_count": null,
            "_view_module_version": "1.2.0",
            "_model_module": "@jupyter-widgets/controls"
          }
        },
        "4a223df0b16745af9a68b6772fba1859": {
          "model_module": "@jupyter-widgets/base",
          "model_name": "LayoutModel",
          "state": {
            "_view_name": "LayoutView",
            "grid_template_rows": null,
            "right": null,
            "justify_content": null,
            "_view_module": "@jupyter-widgets/base",
            "overflow": null,
            "_model_module_version": "1.2.0",
            "_view_count": null,
            "flex_flow": null,
            "width": null,
            "min_width": null,
            "border": null,
            "align_items": null,
            "bottom": null,
            "_model_module": "@jupyter-widgets/base",
            "top": null,
            "grid_column": null,
            "overflow_y": null,
            "overflow_x": null,
            "grid_auto_flow": null,
            "grid_area": null,
            "grid_template_columns": null,
            "flex": null,
            "_model_name": "LayoutModel",
            "justify_items": null,
            "grid_row": null,
            "max_height": null,
            "align_content": null,
            "visibility": null,
            "align_self": null,
            "height": null,
            "min_height": null,
            "padding": null,
            "grid_auto_rows": null,
            "grid_gap": null,
            "max_width": null,
            "order": null,
            "_view_module_version": "1.2.0",
            "grid_template_areas": null,
            "object_position": null,
            "object_fit": null,
            "grid_auto_columns": null,
            "margin": null,
            "display": null,
            "left": null
          }
        }
      }
    }
  },
  "cells": [
    {
      "cell_type": "markdown",
      "metadata": {
        "id": "view-in-github",
        "colab_type": "text"
      },
      "source": [
        "<a href=\"https://colab.research.google.com/github/pankajattri/CSC591/blob/master/PySyft_vFederated_attack_V5.ipynb\" target=\"_parent\"><img src=\"https://colab.research.google.com/assets/colab-badge.svg\" alt=\"Open In Colab\"/></a>"
      ]
    },
    {
      "cell_type": "code",
      "metadata": {
        "id": "mjKm6x1Pd6vL",
        "colab_type": "code",
        "colab": {}
      },
      "source": [
        "############\n",
        "#INSTALL PySyft\n",
        "##########\n",
        "\n",
        "!git clone https://github.com/OpenMined/PySyft.git\n",
        "!cd PySyft/\n",
        "!pip install -r PySyft/pip-dep/requirements.txt\n",
        "!pip install -r PySyft/pip-dep/requirements_udacity.txt\n",
        "!python PySyft/setup.py install"
      ],
      "execution_count": 0,
      "outputs": []
    },
    {
      "cell_type": "code",
      "metadata": {
        "id": "Gu0PigC0d86Q",
        "colab_type": "code",
        "colab": {}
      },
      "source": [
        "# Run this cell to add PySyft path \n",
        "import os\n",
        "import sys\n",
        "module_path = os.path.abspath(os.path.join('./PySyft'))\n",
        "if module_path not in sys.path:\n",
        "    sys.path.append(module_path)"
      ],
      "execution_count": 0,
      "outputs": []
    },
    {
      "cell_type": "code",
      "metadata": {
        "id": "L1AIsdPrd-QZ",
        "colab_type": "code",
        "colab": {}
      },
      "source": [
        "import torch\n",
        "import torch.nn as nn\n",
        "import torch.nn.functional as F\n",
        "import torch.optim as optim\n",
        "from torchvision import datasets, transforms\n",
        "import copy\n",
        "import regex as re"
      ],
      "execution_count": 0,
      "outputs": []
    },
    {
      "cell_type": "code",
      "metadata": {
        "id": "T54Dck6geCS3",
        "colab_type": "code",
        "colab": {
          "base_uri": "https://localhost:8080/",
          "height": 90
        },
        "outputId": "fa5c665b-cd6d-449a-cefb-b4e41350c1ac"
      },
      "source": [
        "import syft as sy  # <-- NEW: import the Pysyft library\n",
        "hook = sy.TorchHook(torch)  # <-- NEW: hook PyTorch ie add extra functionalities to support Federated Learning\n"
      ],
      "execution_count": 3,
      "outputs": [
        {
          "output_type": "stream",
          "text": [
            "Falling back to insecure randomness since the required custom op could not be found for the installed version of TensorFlow. Fix this by compiling custom ops. Missing file was '/usr/local/lib/python3.6/dist-packages/tf_encrypted/operations/secure_random/secure_random_module_tf_1.15.2.so'\n"
          ],
          "name": "stderr"
        },
        {
          "output_type": "stream",
          "text": [
            "WARNING:tensorflow:From /usr/local/lib/python3.6/dist-packages/tf_encrypted/session.py:24: The name tf.Session is deprecated. Please use tf.compat.v1.Session instead.\n",
            "\n"
          ],
          "name": "stdout"
        }
      ]
    },
    {
      "cell_type": "code",
      "metadata": {
        "id": "5yTb8kkIeEMK",
        "colab_type": "code",
        "colab": {}
      },
      "source": [
        "Agent_1 = sy.VirtualWorker(hook, id=\"Agent_1\")\n",
        "Agent_2 = sy.VirtualWorker(hook, id=\"Agent_2\")\n",
        "Agent_3 = sy.VirtualWorker(hook, id=\"Agent_3\")\n",
        "Agent_4 = sy.VirtualWorker(hook, id=\"Agent_4\")\n",
        "Agent_5 = sy.VirtualWorker(hook, id=\"Agent_5\")\n",
        "Agent_6 = sy.VirtualWorker(hook, id=\"Agent_6\")\n",
        "Agent_7 = sy.VirtualWorker(hook, id=\"Agent_7\")\n",
        "Agent_8 = sy.VirtualWorker(hook, id=\"Agent_8\")\n",
        "Agent_9 = sy.VirtualWorker(hook, id=\"Agent_9\")\n",
        "Agent_10 = sy.VirtualWorker(hook, id=\"Agent_10\")\n"
      ],
      "execution_count": 0,
      "outputs": []
    },
    {
      "cell_type": "code",
      "metadata": {
        "id": "faxi6b1WfR6Z",
        "colab_type": "code",
        "colab": {}
      },
      "source": [
        "Agent_base = sy.VirtualWorker(hook, id=\"Agent_base\")"
      ],
      "execution_count": 0,
      "outputs": []
    },
    {
      "cell_type": "code",
      "metadata": {
        "id": "yrx6O1Rxfixz",
        "colab_type": "code",
        "colab": {
          "base_uri": "https://localhost:8080/",
          "height": 358,
          "referenced_widgets": [
            "1475cc6bec394121bb1cafd4ab70ff55",
            "b9f59b5b994f49c6a9c1d541b8a622e3",
            "97b4e31539964215b9b409d8338450f8",
            "2c6d4a4ea2ff4b918ab639d66829b0b8",
            "566d97d20708411f88f95978253cc43a",
            "f05365aa374d4cd794a6d7b4ac9a9d69",
            "fc17aaf75bb24744b9eb91387b43cef5",
            "83a11895d449492bac27b3acc8c7701f",
            "290d6cd054cc445e8a0ae722194f0332",
            "2d36c355f70e43019a9ea99fe5511f42",
            "9064dd4141f44d9abdc95fec04fbe590",
            "1f2b3e105a9c451684017bf72a791726",
            "97865d3505b148a898fffe8d0bf52154",
            "a6f6e2e80ec1440ea311b9149653532f",
            "a5480fb1b58f4720a09c2b55d65d400a",
            "d23e69a668e54665a8215a65111fa36a",
            "77a04725034d478bbafeb280e766064a",
            "ee6a490dfc9a4036b28d0afb86da40ae",
            "15cf0487556a4eeaad75198d48365c14",
            "61b3d5a6b2c44bb6bcdeaab6885907c2",
            "6069d51d89a647f4a36450b5c738b16b",
            "fcf6f6e9368d47bca4199e607a6a9afc",
            "6cd7eafacecc4b66870e0a44f988b40e",
            "55c98653024846a38b633ccb66be1c80",
            "1503b838a1eb49cf826ffd7e593d07c3",
            "a3c79de83c5c43c1b4a53266e126f2ce",
            "0d54ff661c73446bb55655c97f0789e6",
            "bf6c600b7cd24912ad6cb32915f309dd",
            "4ec6c20d390a4f4e918c3a5977f5ff11",
            "6a4dcfd0a99f4414af06ad2516136234",
            "3f3deee09d334c5f926a46c50ca944e1",
            "4a223df0b16745af9a68b6772fba1859"
          ]
        },
        "outputId": "89ba9b06-f044-42b6-ae26-18cf58dcca2e"
      },
      "source": [
        "mnist_full_train_dataset_bs = datasets.FashionMNIST('../data', train=True, download=True,transform=transforms.Compose([transforms.ToTensor(),transforms.Normalize((0.1307,), (0.3081,))]))"
      ],
      "execution_count": 6,
      "outputs": [
        {
          "output_type": "stream",
          "text": [
            "Downloading http://fashion-mnist.s3-website.eu-central-1.amazonaws.com/train-images-idx3-ubyte.gz to ../data/FashionMNIST/raw/train-images-idx3-ubyte.gz\n"
          ],
          "name": "stdout"
        },
        {
          "output_type": "display_data",
          "data": {
            "application/vnd.jupyter.widget-view+json": {
              "model_id": "1475cc6bec394121bb1cafd4ab70ff55",
              "version_minor": 0,
              "version_major": 2
            },
            "text/plain": [
              "HBox(children=(IntProgress(value=1, bar_style='info', max=1), HTML(value='')))"
            ]
          },
          "metadata": {
            "tags": []
          }
        },
        {
          "output_type": "stream",
          "text": [
            "Extracting ../data/FashionMNIST/raw/train-images-idx3-ubyte.gz to ../data/FashionMNIST/raw\n",
            "Downloading http://fashion-mnist.s3-website.eu-central-1.amazonaws.com/train-labels-idx1-ubyte.gz to ../data/FashionMNIST/raw/train-labels-idx1-ubyte.gz\n"
          ],
          "name": "stdout"
        },
        {
          "output_type": "display_data",
          "data": {
            "application/vnd.jupyter.widget-view+json": {
              "model_id": "290d6cd054cc445e8a0ae722194f0332",
              "version_minor": 0,
              "version_major": 2
            },
            "text/plain": [
              "HBox(children=(IntProgress(value=1, bar_style='info', max=1), HTML(value='')))"
            ]
          },
          "metadata": {
            "tags": []
          }
        },
        {
          "output_type": "stream",
          "text": [
            "Extracting ../data/FashionMNIST/raw/train-labels-idx1-ubyte.gz to ../data/FashionMNIST/raw\n",
            "Downloading http://fashion-mnist.s3-website.eu-central-1.amazonaws.com/t10k-images-idx3-ubyte.gz to ../data/FashionMNIST/raw/t10k-images-idx3-ubyte.gz\n",
            "\n",
            "\n"
          ],
          "name": "stdout"
        },
        {
          "output_type": "display_data",
          "data": {
            "application/vnd.jupyter.widget-view+json": {
              "model_id": "77a04725034d478bbafeb280e766064a",
              "version_minor": 0,
              "version_major": 2
            },
            "text/plain": [
              "HBox(children=(IntProgress(value=1, bar_style='info', max=1), HTML(value='')))"
            ]
          },
          "metadata": {
            "tags": []
          }
        },
        {
          "output_type": "stream",
          "text": [
            "Extracting ../data/FashionMNIST/raw/t10k-images-idx3-ubyte.gz to ../data/FashionMNIST/raw\n",
            "Downloading http://fashion-mnist.s3-website.eu-central-1.amazonaws.com/t10k-labels-idx1-ubyte.gz to ../data/FashionMNIST/raw/t10k-labels-idx1-ubyte.gz\n"
          ],
          "name": "stdout"
        },
        {
          "output_type": "display_data",
          "data": {
            "application/vnd.jupyter.widget-view+json": {
              "model_id": "1503b838a1eb49cf826ffd7e593d07c3",
              "version_minor": 0,
              "version_major": 2
            },
            "text/plain": [
              "HBox(children=(IntProgress(value=1, bar_style='info', max=1), HTML(value='')))"
            ]
          },
          "metadata": {
            "tags": []
          }
        },
        {
          "output_type": "stream",
          "text": [
            "Extracting ../data/FashionMNIST/raw/t10k-labels-idx1-ubyte.gz to ../data/FashionMNIST/raw\n",
            "Processing...\n",
            "Done!\n"
          ],
          "name": "stdout"
        }
      ]
    },
    {
      "cell_type": "code",
      "metadata": {
        "id": "O_SIjwUkeHFi",
        "colab_type": "code",
        "colab": {}
      },
      "source": [
        "class Arguments():\n",
        "    def __init__(self):\n",
        "        self.batch_size = 60\n",
        "        self.test_batch_size = 1000\n",
        "        self.epochs = 1\n",
        "        self.lr = 0.005\n",
        "        self.momentum = 0.5\n",
        "        self.no_cuda = False\n",
        "        self.seed = 1\n",
        "        self.log_interval = 30\n",
        "        self.save_model = False\n",
        "\n",
        "args = Arguments()\n",
        "\n",
        "use_cuda = not args.no_cuda and torch.cuda.is_available()\n",
        "\n",
        "torch.manual_seed(args.seed)\n",
        "\n",
        "device = torch.device(\"cuda\" if use_cuda else \"cpu\")\n",
        "\n",
        "kwargs = {'num_workers': 1, 'pin_memory': True} if use_cuda else {}"
      ],
      "execution_count": 0,
      "outputs": []
    },
    {
      "cell_type": "code",
      "metadata": {
        "id": "HF3tG6I2fuCf",
        "colab_type": "code",
        "colab": {
          "base_uri": "https://localhost:8080/",
          "height": 35
        },
        "outputId": "5e1268bc-fea4-4de2-a102-e5165eba7ca5"
      },
      "source": [
        "federated_train_ds_baseline = sy.FederatedDataLoader(mnist_full_train_dataset_bs.federate((Agent_base,)),batch_size=60,shuffle=True, **kwargs)"
      ],
      "execution_count": 8,
      "outputs": [
        {
          "output_type": "stream",
          "text": [
            "WARNING:root:The following options are not supported: num_workers: 1, pin_memory: True\n"
          ],
          "name": "stderr"
        }
      ]
    },
    {
      "cell_type": "code",
      "metadata": {
        "id": "KJM5PELdeKkA",
        "colab_type": "code",
        "colab": {}
      },
      "source": [
        "# This is the dataset that will be used repeateadly to test model performance\n",
        "test_loader = torch.utils.data.DataLoader(\n",
        "    datasets.FashionMNIST('../data', train=False, transform=transforms.Compose([\n",
        "                       transforms.ToTensor(),\n",
        "                       transforms.Normalize((0.1307,), (0.3081,))\n",
        "                   ])),\n",
        "    batch_size=args.test_batch_size, shuffle=True, **kwargs)"
      ],
      "execution_count": 0,
      "outputs": []
    },
    {
      "cell_type": "code",
      "metadata": {
        "id": "5Wxf1b6YgTpA",
        "colab_type": "code",
        "colab": {}
      },
      "source": [
        "class Net(nn.Module):\n",
        "    def __init__(self):\n",
        "        super(Net, self).__init__()\n",
        "        self.conv1 = nn.Conv2d(1, 20, 5, 1)\n",
        "        self.conv2 = nn.Conv2d(20, 50, 5, 1)\n",
        "        self.fc1 = nn.Linear(4*4*50, 500)\n",
        "        self.fc2 = nn.Linear(500, 10)\n",
        "\n",
        "    def forward(self, x):\n",
        "        x = F.relu(self.conv1(x))\n",
        "        x = F.max_pool2d(x, 2, 2)\n",
        "        x = F.relu(self.conv2(x))\n",
        "        x = F.max_pool2d(x, 2, 2)\n",
        "        x = x.view(-1, 4*4*50)\n",
        "        x = F.relu(self.fc1(x))\n",
        "        x = self.fc2(x)\n",
        "        return F.log_softmax(x, dim=1)"
      ],
      "execution_count": 0,
      "outputs": []
    },
    {
      "cell_type": "code",
      "metadata": {
        "id": "8D6toIGXgrdX",
        "colab_type": "code",
        "colab": {
          "base_uri": "https://localhost:8080/",
          "height": 52
        },
        "outputId": "0157edf5-2d38-4f64-d90c-cf549031cecf"
      },
      "source": [
        "%%time\n",
        "model = Net().to(device)\n",
        "optimizer = optim.SGD(model.parameters(), lr=args.lr) # TODO momentum is not supported at the moment"
      ],
      "execution_count": 11,
      "outputs": [
        {
          "output_type": "stream",
          "text": [
            "CPU times: user 2.62 s, sys: 578 ms, total: 3.2 s\n",
            "Wall time: 9 s\n"
          ],
          "name": "stdout"
        }
      ]
    },
    {
      "cell_type": "code",
      "metadata": {
        "id": "YJyoWVK0kAL7",
        "colab_type": "code",
        "colab": {}
      },
      "source": [
        "# Helper function to calculate training loss and accuracy.\n",
        "\n",
        "def test(args, model, device, test_loader):\n",
        "    model.eval()\n",
        "    test_loss = 0\n",
        "    correct = 0\n",
        "    with torch.no_grad():\n",
        "        for data, target in test_loader:\n",
        "            data, target = data.to(device), target.to(device)\n",
        "            output = model(data)\n",
        "            test_loss += F.nll_loss(output, target, reduction='sum').item() # sum up batch loss\n",
        "            pred = output.argmax(1, keepdim=True) # get the index of the max log-probability \n",
        "            correct += pred.eq(target.view_as(pred)).sum().item()\n",
        "\n",
        "    test_loss /= len(test_loader.dataset)\n",
        "    '''\n",
        "    print('\\nTest set: Average loss: {:.4f}, Accuracy: {}/{} ({:.0f}%)\\n'.format(\n",
        "        test_loss, correct, len(test_loader.dataset),\n",
        "        100. * correct / len(test_loader.dataset)))\n",
        "    '''\n",
        "    return test_loss, 100. * correct / len(test_loader.dataset)"
      ],
      "execution_count": 0,
      "outputs": []
    },
    {
      "cell_type": "code",
      "metadata": {
        "id": "dsnbWqQJhiSB",
        "colab_type": "code",
        "colab": {
          "base_uri": "https://localhost:8080/",
          "height": 1000
        },
        "outputId": "98bc76be-00b2-4340-d28e-eaf8abe52006"
      },
      "source": [
        "# Base model training. Only training with one agent.\n",
        "\n",
        "model.train()\n",
        "for epoch in range(1,8):\n",
        "  for batch_idx, (data, target) in enumerate(federated_train_ds_baseline):\n",
        "    model.send(data.location)\n",
        "    data, target = data.to(device), target.to(device)\n",
        "    optimizer.zero_grad()\n",
        "    output = model(data)\n",
        "    loss = F.nll_loss(output, target)\n",
        "    loss.backward()\n",
        "    optimizer.step()\n",
        "    model.get()\n",
        "    if batch_idx % args.log_interval == 0:\n",
        "        loss = loss.get() # <-- NEW: get the loss back\n",
        "        print('Agent: {} Train Epoch: {} [{}/{} ({:.0f}%)]\\tLoss: {:.6f}'.format(\n",
        "            data.location,epoch, batch_idx * args.batch_size, len(federated_train_ds_baseline) * args.batch_size,\n",
        "            100. * batch_idx / len(federated_train_ds_baseline), loss.item()))\n",
        "  test(args, model, device, test_loader)"
      ],
      "execution_count": 14,
      "outputs": [
        {
          "output_type": "stream",
          "text": [
            "Agent: <VirtualWorker id:Agent_base #objects:7> Train Epoch: 1 [0/60000 (0%)]\tLoss: 2.318883\n",
            "Agent: <VirtualWorker id:Agent_base #objects:7> Train Epoch: 1 [1800/60000 (3%)]\tLoss: 2.245147\n",
            "Agent: <VirtualWorker id:Agent_base #objects:7> Train Epoch: 1 [3600/60000 (6%)]\tLoss: 2.162158\n",
            "Agent: <VirtualWorker id:Agent_base #objects:7> Train Epoch: 1 [5400/60000 (9%)]\tLoss: 2.050150\n",
            "Agent: <VirtualWorker id:Agent_base #objects:7> Train Epoch: 1 [7200/60000 (12%)]\tLoss: 1.820712\n",
            "Agent: <VirtualWorker id:Agent_base #objects:7> Train Epoch: 1 [9000/60000 (15%)]\tLoss: 1.574316\n",
            "Agent: <VirtualWorker id:Agent_base #objects:7> Train Epoch: 1 [10800/60000 (18%)]\tLoss: 1.419512\n",
            "Agent: <VirtualWorker id:Agent_base #objects:7> Train Epoch: 1 [12600/60000 (21%)]\tLoss: 1.175225\n",
            "Agent: <VirtualWorker id:Agent_base #objects:7> Train Epoch: 1 [14400/60000 (24%)]\tLoss: 1.148220\n",
            "Agent: <VirtualWorker id:Agent_base #objects:7> Train Epoch: 1 [16200/60000 (27%)]\tLoss: 0.947605\n",
            "Agent: <VirtualWorker id:Agent_base #objects:7> Train Epoch: 1 [18000/60000 (30%)]\tLoss: 1.128456\n",
            "Agent: <VirtualWorker id:Agent_base #objects:7> Train Epoch: 1 [19800/60000 (33%)]\tLoss: 1.006030\n",
            "Agent: <VirtualWorker id:Agent_base #objects:7> Train Epoch: 1 [21600/60000 (36%)]\tLoss: 1.111631\n",
            "Agent: <VirtualWorker id:Agent_base #objects:7> Train Epoch: 1 [23400/60000 (39%)]\tLoss: 0.885016\n",
            "Agent: <VirtualWorker id:Agent_base #objects:7> Train Epoch: 1 [25200/60000 (42%)]\tLoss: 0.967509\n",
            "Agent: <VirtualWorker id:Agent_base #objects:7> Train Epoch: 1 [27000/60000 (45%)]\tLoss: 1.096859\n",
            "Agent: <VirtualWorker id:Agent_base #objects:7> Train Epoch: 1 [28800/60000 (48%)]\tLoss: 0.909921\n",
            "Agent: <VirtualWorker id:Agent_base #objects:7> Train Epoch: 1 [30600/60000 (51%)]\tLoss: 0.715071\n",
            "Agent: <VirtualWorker id:Agent_base #objects:7> Train Epoch: 1 [32400/60000 (54%)]\tLoss: 0.721125\n",
            "Agent: <VirtualWorker id:Agent_base #objects:7> Train Epoch: 1 [34200/60000 (57%)]\tLoss: 0.895160\n",
            "Agent: <VirtualWorker id:Agent_base #objects:7> Train Epoch: 1 [36000/60000 (60%)]\tLoss: 0.931731\n",
            "Agent: <VirtualWorker id:Agent_base #objects:7> Train Epoch: 1 [37800/60000 (63%)]\tLoss: 0.963326\n",
            "Agent: <VirtualWorker id:Agent_base #objects:7> Train Epoch: 1 [39600/60000 (66%)]\tLoss: 0.523912\n",
            "Agent: <VirtualWorker id:Agent_base #objects:7> Train Epoch: 1 [41400/60000 (69%)]\tLoss: 0.764274\n",
            "Agent: <VirtualWorker id:Agent_base #objects:7> Train Epoch: 1 [43200/60000 (72%)]\tLoss: 0.935484\n",
            "Agent: <VirtualWorker id:Agent_base #objects:7> Train Epoch: 1 [45000/60000 (75%)]\tLoss: 0.952711\n",
            "Agent: <VirtualWorker id:Agent_base #objects:7> Train Epoch: 1 [46800/60000 (78%)]\tLoss: 0.754579\n",
            "Agent: <VirtualWorker id:Agent_base #objects:7> Train Epoch: 1 [48600/60000 (81%)]\tLoss: 0.504098\n",
            "Agent: <VirtualWorker id:Agent_base #objects:7> Train Epoch: 1 [50400/60000 (84%)]\tLoss: 0.872342\n",
            "Agent: <VirtualWorker id:Agent_base #objects:7> Train Epoch: 1 [52200/60000 (87%)]\tLoss: 0.721801\n",
            "Agent: <VirtualWorker id:Agent_base #objects:7> Train Epoch: 1 [54000/60000 (90%)]\tLoss: 0.628202\n",
            "Agent: <VirtualWorker id:Agent_base #objects:7> Train Epoch: 1 [55800/60000 (93%)]\tLoss: 0.764674\n",
            "Agent: <VirtualWorker id:Agent_base #objects:7> Train Epoch: 1 [57600/60000 (96%)]\tLoss: 0.806031\n",
            "Agent: <VirtualWorker id:Agent_base #objects:7> Train Epoch: 1 [59400/60000 (99%)]\tLoss: 0.674379\n",
            "Agent: <VirtualWorker id:Agent_base #objects:7> Train Epoch: 2 [0/60000 (0%)]\tLoss: 0.568874\n",
            "Agent: <VirtualWorker id:Agent_base #objects:7> Train Epoch: 2 [1800/60000 (3%)]\tLoss: 0.888414\n",
            "Agent: <VirtualWorker id:Agent_base #objects:7> Train Epoch: 2 [3600/60000 (6%)]\tLoss: 0.966669\n",
            "Agent: <VirtualWorker id:Agent_base #objects:7> Train Epoch: 2 [5400/60000 (9%)]\tLoss: 0.499289\n",
            "Agent: <VirtualWorker id:Agent_base #objects:7> Train Epoch: 2 [7200/60000 (12%)]\tLoss: 0.583211\n",
            "Agent: <VirtualWorker id:Agent_base #objects:7> Train Epoch: 2 [9000/60000 (15%)]\tLoss: 0.627254\n",
            "Agent: <VirtualWorker id:Agent_base #objects:7> Train Epoch: 2 [10800/60000 (18%)]\tLoss: 0.854965\n",
            "Agent: <VirtualWorker id:Agent_base #objects:7> Train Epoch: 2 [12600/60000 (21%)]\tLoss: 0.788047\n",
            "Agent: <VirtualWorker id:Agent_base #objects:7> Train Epoch: 2 [14400/60000 (24%)]\tLoss: 0.648007\n",
            "Agent: <VirtualWorker id:Agent_base #objects:7> Train Epoch: 2 [16200/60000 (27%)]\tLoss: 0.573579\n",
            "Agent: <VirtualWorker id:Agent_base #objects:7> Train Epoch: 2 [18000/60000 (30%)]\tLoss: 0.818769\n",
            "Agent: <VirtualWorker id:Agent_base #objects:7> Train Epoch: 2 [19800/60000 (33%)]\tLoss: 0.495839\n",
            "Agent: <VirtualWorker id:Agent_base #objects:7> Train Epoch: 2 [21600/60000 (36%)]\tLoss: 0.851659\n",
            "Agent: <VirtualWorker id:Agent_base #objects:7> Train Epoch: 2 [23400/60000 (39%)]\tLoss: 0.601422\n",
            "Agent: <VirtualWorker id:Agent_base #objects:7> Train Epoch: 2 [25200/60000 (42%)]\tLoss: 0.691287\n",
            "Agent: <VirtualWorker id:Agent_base #objects:7> Train Epoch: 2 [27000/60000 (45%)]\tLoss: 0.595125\n",
            "Agent: <VirtualWorker id:Agent_base #objects:7> Train Epoch: 2 [28800/60000 (48%)]\tLoss: 0.554585\n",
            "Agent: <VirtualWorker id:Agent_base #objects:7> Train Epoch: 2 [30600/60000 (51%)]\tLoss: 0.684412\n",
            "Agent: <VirtualWorker id:Agent_base #objects:7> Train Epoch: 2 [32400/60000 (54%)]\tLoss: 0.504642\n",
            "Agent: <VirtualWorker id:Agent_base #objects:7> Train Epoch: 2 [34200/60000 (57%)]\tLoss: 0.819475\n",
            "Agent: <VirtualWorker id:Agent_base #objects:7> Train Epoch: 2 [36000/60000 (60%)]\tLoss: 0.731208\n",
            "Agent: <VirtualWorker id:Agent_base #objects:7> Train Epoch: 2 [37800/60000 (63%)]\tLoss: 0.626767\n",
            "Agent: <VirtualWorker id:Agent_base #objects:7> Train Epoch: 2 [39600/60000 (66%)]\tLoss: 0.569686\n",
            "Agent: <VirtualWorker id:Agent_base #objects:7> Train Epoch: 2 [41400/60000 (69%)]\tLoss: 0.669385\n",
            "Agent: <VirtualWorker id:Agent_base #objects:7> Train Epoch: 2 [43200/60000 (72%)]\tLoss: 0.589903\n",
            "Agent: <VirtualWorker id:Agent_base #objects:7> Train Epoch: 2 [45000/60000 (75%)]\tLoss: 0.775788\n",
            "Agent: <VirtualWorker id:Agent_base #objects:7> Train Epoch: 2 [46800/60000 (78%)]\tLoss: 0.500270\n",
            "Agent: <VirtualWorker id:Agent_base #objects:7> Train Epoch: 2 [48600/60000 (81%)]\tLoss: 0.768623\n",
            "Agent: <VirtualWorker id:Agent_base #objects:7> Train Epoch: 2 [50400/60000 (84%)]\tLoss: 0.549079\n",
            "Agent: <VirtualWorker id:Agent_base #objects:7> Train Epoch: 2 [52200/60000 (87%)]\tLoss: 0.500767\n",
            "Agent: <VirtualWorker id:Agent_base #objects:7> Train Epoch: 2 [54000/60000 (90%)]\tLoss: 0.605878\n",
            "Agent: <VirtualWorker id:Agent_base #objects:7> Train Epoch: 2 [55800/60000 (93%)]\tLoss: 0.613554\n",
            "Agent: <VirtualWorker id:Agent_base #objects:7> Train Epoch: 2 [57600/60000 (96%)]\tLoss: 0.521584\n",
            "Agent: <VirtualWorker id:Agent_base #objects:7> Train Epoch: 2 [59400/60000 (99%)]\tLoss: 0.573629\n",
            "Agent: <VirtualWorker id:Agent_base #objects:7> Train Epoch: 3 [0/60000 (0%)]\tLoss: 0.432076\n",
            "Agent: <VirtualWorker id:Agent_base #objects:7> Train Epoch: 3 [1800/60000 (3%)]\tLoss: 0.475262\n",
            "Agent: <VirtualWorker id:Agent_base #objects:7> Train Epoch: 3 [3600/60000 (6%)]\tLoss: 0.745549\n",
            "Agent: <VirtualWorker id:Agent_base #objects:7> Train Epoch: 3 [5400/60000 (9%)]\tLoss: 0.757292\n",
            "Agent: <VirtualWorker id:Agent_base #objects:7> Train Epoch: 3 [7200/60000 (12%)]\tLoss: 0.401745\n",
            "Agent: <VirtualWorker id:Agent_base #objects:7> Train Epoch: 3 [9000/60000 (15%)]\tLoss: 0.739333\n",
            "Agent: <VirtualWorker id:Agent_base #objects:7> Train Epoch: 3 [10800/60000 (18%)]\tLoss: 0.688107\n",
            "Agent: <VirtualWorker id:Agent_base #objects:7> Train Epoch: 3 [12600/60000 (21%)]\tLoss: 0.471900\n",
            "Agent: <VirtualWorker id:Agent_base #objects:7> Train Epoch: 3 [14400/60000 (24%)]\tLoss: 0.742767\n",
            "Agent: <VirtualWorker id:Agent_base #objects:7> Train Epoch: 3 [16200/60000 (27%)]\tLoss: 0.457081\n",
            "Agent: <VirtualWorker id:Agent_base #objects:7> Train Epoch: 3 [18000/60000 (30%)]\tLoss: 0.805988\n",
            "Agent: <VirtualWorker id:Agent_base #objects:7> Train Epoch: 3 [19800/60000 (33%)]\tLoss: 0.929281\n",
            "Agent: <VirtualWorker id:Agent_base #objects:7> Train Epoch: 3 [21600/60000 (36%)]\tLoss: 0.805729\n",
            "Agent: <VirtualWorker id:Agent_base #objects:7> Train Epoch: 3 [23400/60000 (39%)]\tLoss: 0.558000\n",
            "Agent: <VirtualWorker id:Agent_base #objects:7> Train Epoch: 3 [25200/60000 (42%)]\tLoss: 0.591864\n",
            "Agent: <VirtualWorker id:Agent_base #objects:7> Train Epoch: 3 [27000/60000 (45%)]\tLoss: 0.562067\n",
            "Agent: <VirtualWorker id:Agent_base #objects:7> Train Epoch: 3 [28800/60000 (48%)]\tLoss: 0.448570\n",
            "Agent: <VirtualWorker id:Agent_base #objects:7> Train Epoch: 3 [30600/60000 (51%)]\tLoss: 0.488259\n",
            "Agent: <VirtualWorker id:Agent_base #objects:7> Train Epoch: 3 [32400/60000 (54%)]\tLoss: 0.447074\n",
            "Agent: <VirtualWorker id:Agent_base #objects:7> Train Epoch: 3 [34200/60000 (57%)]\tLoss: 0.600505\n",
            "Agent: <VirtualWorker id:Agent_base #objects:7> Train Epoch: 3 [36000/60000 (60%)]\tLoss: 0.403584\n",
            "Agent: <VirtualWorker id:Agent_base #objects:7> Train Epoch: 3 [37800/60000 (63%)]\tLoss: 0.509387\n",
            "Agent: <VirtualWorker id:Agent_base #objects:7> Train Epoch: 3 [39600/60000 (66%)]\tLoss: 0.695145\n",
            "Agent: <VirtualWorker id:Agent_base #objects:7> Train Epoch: 3 [41400/60000 (69%)]\tLoss: 0.486374\n",
            "Agent: <VirtualWorker id:Agent_base #objects:7> Train Epoch: 3 [43200/60000 (72%)]\tLoss: 0.695514\n",
            "Agent: <VirtualWorker id:Agent_base #objects:7> Train Epoch: 3 [45000/60000 (75%)]\tLoss: 0.481566\n",
            "Agent: <VirtualWorker id:Agent_base #objects:7> Train Epoch: 3 [46800/60000 (78%)]\tLoss: 0.566770\n",
            "Agent: <VirtualWorker id:Agent_base #objects:7> Train Epoch: 3 [48600/60000 (81%)]\tLoss: 0.762747\n",
            "Agent: <VirtualWorker id:Agent_base #objects:7> Train Epoch: 3 [50400/60000 (84%)]\tLoss: 0.290317\n",
            "Agent: <VirtualWorker id:Agent_base #objects:7> Train Epoch: 3 [52200/60000 (87%)]\tLoss: 0.427361\n",
            "Agent: <VirtualWorker id:Agent_base #objects:7> Train Epoch: 3 [54000/60000 (90%)]\tLoss: 0.418230\n",
            "Agent: <VirtualWorker id:Agent_base #objects:7> Train Epoch: 3 [55800/60000 (93%)]\tLoss: 0.553913\n",
            "Agent: <VirtualWorker id:Agent_base #objects:7> Train Epoch: 3 [57600/60000 (96%)]\tLoss: 0.504946\n",
            "Agent: <VirtualWorker id:Agent_base #objects:7> Train Epoch: 3 [59400/60000 (99%)]\tLoss: 0.304264\n",
            "Agent: <VirtualWorker id:Agent_base #objects:7> Train Epoch: 4 [0/60000 (0%)]\tLoss: 0.665252\n",
            "Agent: <VirtualWorker id:Agent_base #objects:7> Train Epoch: 4 [1800/60000 (3%)]\tLoss: 0.417683\n",
            "Agent: <VirtualWorker id:Agent_base #objects:7> Train Epoch: 4 [3600/60000 (6%)]\tLoss: 0.486932\n",
            "Agent: <VirtualWorker id:Agent_base #objects:7> Train Epoch: 4 [5400/60000 (9%)]\tLoss: 0.696673\n",
            "Agent: <VirtualWorker id:Agent_base #objects:7> Train Epoch: 4 [7200/60000 (12%)]\tLoss: 0.492310\n",
            "Agent: <VirtualWorker id:Agent_base #objects:7> Train Epoch: 4 [9000/60000 (15%)]\tLoss: 0.457050\n",
            "Agent: <VirtualWorker id:Agent_base #objects:7> Train Epoch: 4 [10800/60000 (18%)]\tLoss: 0.627580\n",
            "Agent: <VirtualWorker id:Agent_base #objects:7> Train Epoch: 4 [12600/60000 (21%)]\tLoss: 0.683833\n",
            "Agent: <VirtualWorker id:Agent_base #objects:7> Train Epoch: 4 [14400/60000 (24%)]\tLoss: 0.689208\n",
            "Agent: <VirtualWorker id:Agent_base #objects:7> Train Epoch: 4 [16200/60000 (27%)]\tLoss: 0.416981\n",
            "Agent: <VirtualWorker id:Agent_base #objects:7> Train Epoch: 4 [18000/60000 (30%)]\tLoss: 0.482221\n",
            "Agent: <VirtualWorker id:Agent_base #objects:7> Train Epoch: 4 [19800/60000 (33%)]\tLoss: 0.393519\n",
            "Agent: <VirtualWorker id:Agent_base #objects:7> Train Epoch: 4 [21600/60000 (36%)]\tLoss: 0.608694\n",
            "Agent: <VirtualWorker id:Agent_base #objects:7> Train Epoch: 4 [23400/60000 (39%)]\tLoss: 0.597133\n",
            "Agent: <VirtualWorker id:Agent_base #objects:7> Train Epoch: 4 [25200/60000 (42%)]\tLoss: 0.420997\n",
            "Agent: <VirtualWorker id:Agent_base #objects:7> Train Epoch: 4 [27000/60000 (45%)]\tLoss: 0.554196\n",
            "Agent: <VirtualWorker id:Agent_base #objects:7> Train Epoch: 4 [28800/60000 (48%)]\tLoss: 0.390080\n",
            "Agent: <VirtualWorker id:Agent_base #objects:7> Train Epoch: 4 [30600/60000 (51%)]\tLoss: 0.475368\n",
            "Agent: <VirtualWorker id:Agent_base #objects:7> Train Epoch: 4 [32400/60000 (54%)]\tLoss: 0.473342\n",
            "Agent: <VirtualWorker id:Agent_base #objects:7> Train Epoch: 4 [34200/60000 (57%)]\tLoss: 0.543816\n",
            "Agent: <VirtualWorker id:Agent_base #objects:7> Train Epoch: 4 [36000/60000 (60%)]\tLoss: 0.351159\n",
            "Agent: <VirtualWorker id:Agent_base #objects:7> Train Epoch: 4 [37800/60000 (63%)]\tLoss: 0.321218\n",
            "Agent: <VirtualWorker id:Agent_base #objects:7> Train Epoch: 4 [39600/60000 (66%)]\tLoss: 0.536650\n",
            "Agent: <VirtualWorker id:Agent_base #objects:7> Train Epoch: 4 [41400/60000 (69%)]\tLoss: 0.519132\n",
            "Agent: <VirtualWorker id:Agent_base #objects:7> Train Epoch: 4 [43200/60000 (72%)]\tLoss: 0.859090\n",
            "Agent: <VirtualWorker id:Agent_base #objects:7> Train Epoch: 4 [45000/60000 (75%)]\tLoss: 0.480196\n",
            "Agent: <VirtualWorker id:Agent_base #objects:7> Train Epoch: 4 [46800/60000 (78%)]\tLoss: 0.595102\n",
            "Agent: <VirtualWorker id:Agent_base #objects:7> Train Epoch: 4 [48600/60000 (81%)]\tLoss: 0.484104\n",
            "Agent: <VirtualWorker id:Agent_base #objects:7> Train Epoch: 4 [50400/60000 (84%)]\tLoss: 0.432072\n",
            "Agent: <VirtualWorker id:Agent_base #objects:7> Train Epoch: 4 [52200/60000 (87%)]\tLoss: 0.520183\n",
            "Agent: <VirtualWorker id:Agent_base #objects:7> Train Epoch: 4 [54000/60000 (90%)]\tLoss: 0.545399\n",
            "Agent: <VirtualWorker id:Agent_base #objects:7> Train Epoch: 4 [55800/60000 (93%)]\tLoss: 0.426914\n",
            "Agent: <VirtualWorker id:Agent_base #objects:7> Train Epoch: 4 [57600/60000 (96%)]\tLoss: 0.797422\n",
            "Agent: <VirtualWorker id:Agent_base #objects:7> Train Epoch: 4 [59400/60000 (99%)]\tLoss: 0.461489\n",
            "Agent: <VirtualWorker id:Agent_base #objects:7> Train Epoch: 5 [0/60000 (0%)]\tLoss: 0.579002\n",
            "Agent: <VirtualWorker id:Agent_base #objects:7> Train Epoch: 5 [1800/60000 (3%)]\tLoss: 0.391685\n",
            "Agent: <VirtualWorker id:Agent_base #objects:7> Train Epoch: 5 [3600/60000 (6%)]\tLoss: 0.665836\n",
            "Agent: <VirtualWorker id:Agent_base #objects:7> Train Epoch: 5 [5400/60000 (9%)]\tLoss: 0.761935\n",
            "Agent: <VirtualWorker id:Agent_base #objects:7> Train Epoch: 5 [7200/60000 (12%)]\tLoss: 0.429929\n",
            "Agent: <VirtualWorker id:Agent_base #objects:7> Train Epoch: 5 [9000/60000 (15%)]\tLoss: 0.431026\n",
            "Agent: <VirtualWorker id:Agent_base #objects:7> Train Epoch: 5 [10800/60000 (18%)]\tLoss: 0.544374\n",
            "Agent: <VirtualWorker id:Agent_base #objects:7> Train Epoch: 5 [12600/60000 (21%)]\tLoss: 0.412944\n",
            "Agent: <VirtualWorker id:Agent_base #objects:7> Train Epoch: 5 [14400/60000 (24%)]\tLoss: 0.444493\n",
            "Agent: <VirtualWorker id:Agent_base #objects:7> Train Epoch: 5 [16200/60000 (27%)]\tLoss: 0.358139\n",
            "Agent: <VirtualWorker id:Agent_base #objects:7> Train Epoch: 5 [18000/60000 (30%)]\tLoss: 0.349170\n",
            "Agent: <VirtualWorker id:Agent_base #objects:7> Train Epoch: 5 [19800/60000 (33%)]\tLoss: 0.519499\n",
            "Agent: <VirtualWorker id:Agent_base #objects:7> Train Epoch: 5 [21600/60000 (36%)]\tLoss: 0.550054\n",
            "Agent: <VirtualWorker id:Agent_base #objects:7> Train Epoch: 5 [23400/60000 (39%)]\tLoss: 0.511863\n",
            "Agent: <VirtualWorker id:Agent_base #objects:7> Train Epoch: 5 [25200/60000 (42%)]\tLoss: 0.566731\n",
            "Agent: <VirtualWorker id:Agent_base #objects:7> Train Epoch: 5 [27000/60000 (45%)]\tLoss: 0.514961\n",
            "Agent: <VirtualWorker id:Agent_base #objects:7> Train Epoch: 5 [28800/60000 (48%)]\tLoss: 0.523644\n",
            "Agent: <VirtualWorker id:Agent_base #objects:7> Train Epoch: 5 [30600/60000 (51%)]\tLoss: 0.412421\n",
            "Agent: <VirtualWorker id:Agent_base #objects:7> Train Epoch: 5 [32400/60000 (54%)]\tLoss: 0.457513\n",
            "Agent: <VirtualWorker id:Agent_base #objects:7> Train Epoch: 5 [34200/60000 (57%)]\tLoss: 0.357208\n",
            "Agent: <VirtualWorker id:Agent_base #objects:7> Train Epoch: 5 [36000/60000 (60%)]\tLoss: 0.455601\n",
            "Agent: <VirtualWorker id:Agent_base #objects:7> Train Epoch: 5 [37800/60000 (63%)]\tLoss: 0.384058\n",
            "Agent: <VirtualWorker id:Agent_base #objects:7> Train Epoch: 5 [39600/60000 (66%)]\tLoss: 0.607042\n",
            "Agent: <VirtualWorker id:Agent_base #objects:7> Train Epoch: 5 [41400/60000 (69%)]\tLoss: 0.464299\n",
            "Agent: <VirtualWorker id:Agent_base #objects:7> Train Epoch: 5 [43200/60000 (72%)]\tLoss: 0.519320\n",
            "Agent: <VirtualWorker id:Agent_base #objects:7> Train Epoch: 5 [45000/60000 (75%)]\tLoss: 0.450997\n",
            "Agent: <VirtualWorker id:Agent_base #objects:7> Train Epoch: 5 [46800/60000 (78%)]\tLoss: 0.357571\n",
            "Agent: <VirtualWorker id:Agent_base #objects:7> Train Epoch: 5 [48600/60000 (81%)]\tLoss: 0.326324\n",
            "Agent: <VirtualWorker id:Agent_base #objects:7> Train Epoch: 5 [50400/60000 (84%)]\tLoss: 0.329490\n",
            "Agent: <VirtualWorker id:Agent_base #objects:7> Train Epoch: 5 [52200/60000 (87%)]\tLoss: 0.578253\n",
            "Agent: <VirtualWorker id:Agent_base #objects:7> Train Epoch: 5 [54000/60000 (90%)]\tLoss: 0.567183\n",
            "Agent: <VirtualWorker id:Agent_base #objects:7> Train Epoch: 5 [55800/60000 (93%)]\tLoss: 0.458300\n",
            "Agent: <VirtualWorker id:Agent_base #objects:7> Train Epoch: 5 [57600/60000 (96%)]\tLoss: 0.415796\n",
            "Agent: <VirtualWorker id:Agent_base #objects:7> Train Epoch: 5 [59400/60000 (99%)]\tLoss: 0.443264\n",
            "Agent: <VirtualWorker id:Agent_base #objects:7> Train Epoch: 6 [0/60000 (0%)]\tLoss: 0.504865\n",
            "Agent: <VirtualWorker id:Agent_base #objects:7> Train Epoch: 6 [1800/60000 (3%)]\tLoss: 0.338414\n",
            "Agent: <VirtualWorker id:Agent_base #objects:7> Train Epoch: 6 [3600/60000 (6%)]\tLoss: 0.434064\n",
            "Agent: <VirtualWorker id:Agent_base #objects:7> Train Epoch: 6 [5400/60000 (9%)]\tLoss: 0.497684\n",
            "Agent: <VirtualWorker id:Agent_base #objects:7> Train Epoch: 6 [7200/60000 (12%)]\tLoss: 0.438423\n",
            "Agent: <VirtualWorker id:Agent_base #objects:7> Train Epoch: 6 [9000/60000 (15%)]\tLoss: 0.376259\n",
            "Agent: <VirtualWorker id:Agent_base #objects:7> Train Epoch: 6 [10800/60000 (18%)]\tLoss: 0.372947\n",
            "Agent: <VirtualWorker id:Agent_base #objects:7> Train Epoch: 6 [12600/60000 (21%)]\tLoss: 0.436453\n",
            "Agent: <VirtualWorker id:Agent_base #objects:7> Train Epoch: 6 [14400/60000 (24%)]\tLoss: 0.285939\n",
            "Agent: <VirtualWorker id:Agent_base #objects:7> Train Epoch: 6 [16200/60000 (27%)]\tLoss: 0.438383\n",
            "Agent: <VirtualWorker id:Agent_base #objects:7> Train Epoch: 6 [18000/60000 (30%)]\tLoss: 0.846656\n",
            "Agent: <VirtualWorker id:Agent_base #objects:7> Train Epoch: 6 [19800/60000 (33%)]\tLoss: 0.628126\n",
            "Agent: <VirtualWorker id:Agent_base #objects:7> Train Epoch: 6 [21600/60000 (36%)]\tLoss: 0.504766\n",
            "Agent: <VirtualWorker id:Agent_base #objects:7> Train Epoch: 6 [23400/60000 (39%)]\tLoss: 0.373381\n",
            "Agent: <VirtualWorker id:Agent_base #objects:7> Train Epoch: 6 [25200/60000 (42%)]\tLoss: 0.345357\n",
            "Agent: <VirtualWorker id:Agent_base #objects:7> Train Epoch: 6 [27000/60000 (45%)]\tLoss: 0.584205\n",
            "Agent: <VirtualWorker id:Agent_base #objects:7> Train Epoch: 6 [28800/60000 (48%)]\tLoss: 0.597243\n",
            "Agent: <VirtualWorker id:Agent_base #objects:7> Train Epoch: 6 [30600/60000 (51%)]\tLoss: 0.292205\n",
            "Agent: <VirtualWorker id:Agent_base #objects:7> Train Epoch: 6 [32400/60000 (54%)]\tLoss: 0.562942\n",
            "Agent: <VirtualWorker id:Agent_base #objects:7> Train Epoch: 6 [34200/60000 (57%)]\tLoss: 0.387408\n",
            "Agent: <VirtualWorker id:Agent_base #objects:7> Train Epoch: 6 [36000/60000 (60%)]\tLoss: 0.429512\n",
            "Agent: <VirtualWorker id:Agent_base #objects:7> Train Epoch: 6 [37800/60000 (63%)]\tLoss: 0.490242\n",
            "Agent: <VirtualWorker id:Agent_base #objects:7> Train Epoch: 6 [39600/60000 (66%)]\tLoss: 0.617749\n",
            "Agent: <VirtualWorker id:Agent_base #objects:7> Train Epoch: 6 [41400/60000 (69%)]\tLoss: 0.482034\n",
            "Agent: <VirtualWorker id:Agent_base #objects:7> Train Epoch: 6 [43200/60000 (72%)]\tLoss: 0.440101\n",
            "Agent: <VirtualWorker id:Agent_base #objects:7> Train Epoch: 6 [45000/60000 (75%)]\tLoss: 0.408930\n",
            "Agent: <VirtualWorker id:Agent_base #objects:7> Train Epoch: 6 [46800/60000 (78%)]\tLoss: 0.564922\n",
            "Agent: <VirtualWorker id:Agent_base #objects:7> Train Epoch: 6 [48600/60000 (81%)]\tLoss: 0.387475\n",
            "Agent: <VirtualWorker id:Agent_base #objects:7> Train Epoch: 6 [50400/60000 (84%)]\tLoss: 0.323148\n",
            "Agent: <VirtualWorker id:Agent_base #objects:7> Train Epoch: 6 [52200/60000 (87%)]\tLoss: 0.469116\n",
            "Agent: <VirtualWorker id:Agent_base #objects:7> Train Epoch: 6 [54000/60000 (90%)]\tLoss: 0.503213\n",
            "Agent: <VirtualWorker id:Agent_base #objects:7> Train Epoch: 6 [55800/60000 (93%)]\tLoss: 0.446973\n",
            "Agent: <VirtualWorker id:Agent_base #objects:7> Train Epoch: 6 [57600/60000 (96%)]\tLoss: 0.481160\n",
            "Agent: <VirtualWorker id:Agent_base #objects:7> Train Epoch: 6 [59400/60000 (99%)]\tLoss: 0.486999\n",
            "Agent: <VirtualWorker id:Agent_base #objects:7> Train Epoch: 7 [0/60000 (0%)]\tLoss: 0.305062\n",
            "Agent: <VirtualWorker id:Agent_base #objects:7> Train Epoch: 7 [1800/60000 (3%)]\tLoss: 0.553169\n",
            "Agent: <VirtualWorker id:Agent_base #objects:7> Train Epoch: 7 [3600/60000 (6%)]\tLoss: 0.508099\n",
            "Agent: <VirtualWorker id:Agent_base #objects:7> Train Epoch: 7 [5400/60000 (9%)]\tLoss: 0.341642\n",
            "Agent: <VirtualWorker id:Agent_base #objects:7> Train Epoch: 7 [7200/60000 (12%)]\tLoss: 0.311643\n",
            "Agent: <VirtualWorker id:Agent_base #objects:7> Train Epoch: 7 [9000/60000 (15%)]\tLoss: 0.378950\n",
            "Agent: <VirtualWorker id:Agent_base #objects:7> Train Epoch: 7 [10800/60000 (18%)]\tLoss: 0.348773\n",
            "Agent: <VirtualWorker id:Agent_base #objects:7> Train Epoch: 7 [12600/60000 (21%)]\tLoss: 0.369833\n",
            "Agent: <VirtualWorker id:Agent_base #objects:7> Train Epoch: 7 [14400/60000 (24%)]\tLoss: 0.357183\n",
            "Agent: <VirtualWorker id:Agent_base #objects:7> Train Epoch: 7 [16200/60000 (27%)]\tLoss: 0.268431\n",
            "Agent: <VirtualWorker id:Agent_base #objects:7> Train Epoch: 7 [18000/60000 (30%)]\tLoss: 0.383611\n",
            "Agent: <VirtualWorker id:Agent_base #objects:7> Train Epoch: 7 [19800/60000 (33%)]\tLoss: 0.466371\n",
            "Agent: <VirtualWorker id:Agent_base #objects:7> Train Epoch: 7 [21600/60000 (36%)]\tLoss: 0.468130\n",
            "Agent: <VirtualWorker id:Agent_base #objects:7> Train Epoch: 7 [23400/60000 (39%)]\tLoss: 0.333529\n",
            "Agent: <VirtualWorker id:Agent_base #objects:7> Train Epoch: 7 [25200/60000 (42%)]\tLoss: 0.407955\n",
            "Agent: <VirtualWorker id:Agent_base #objects:7> Train Epoch: 7 [27000/60000 (45%)]\tLoss: 0.355336\n",
            "Agent: <VirtualWorker id:Agent_base #objects:7> Train Epoch: 7 [28800/60000 (48%)]\tLoss: 0.513830\n",
            "Agent: <VirtualWorker id:Agent_base #objects:7> Train Epoch: 7 [30600/60000 (51%)]\tLoss: 0.359521\n",
            "Agent: <VirtualWorker id:Agent_base #objects:7> Train Epoch: 7 [32400/60000 (54%)]\tLoss: 0.643048\n",
            "Agent: <VirtualWorker id:Agent_base #objects:7> Train Epoch: 7 [34200/60000 (57%)]\tLoss: 0.266419\n",
            "Agent: <VirtualWorker id:Agent_base #objects:7> Train Epoch: 7 [36000/60000 (60%)]\tLoss: 0.550135\n",
            "Agent: <VirtualWorker id:Agent_base #objects:7> Train Epoch: 7 [37800/60000 (63%)]\tLoss: 0.473628\n",
            "Agent: <VirtualWorker id:Agent_base #objects:7> Train Epoch: 7 [39600/60000 (66%)]\tLoss: 0.260035\n",
            "Agent: <VirtualWorker id:Agent_base #objects:7> Train Epoch: 7 [41400/60000 (69%)]\tLoss: 0.540011\n",
            "Agent: <VirtualWorker id:Agent_base #objects:7> Train Epoch: 7 [43200/60000 (72%)]\tLoss: 0.382310\n",
            "Agent: <VirtualWorker id:Agent_base #objects:7> Train Epoch: 7 [45000/60000 (75%)]\tLoss: 0.256204\n",
            "Agent: <VirtualWorker id:Agent_base #objects:7> Train Epoch: 7 [46800/60000 (78%)]\tLoss: 0.431778\n",
            "Agent: <VirtualWorker id:Agent_base #objects:7> Train Epoch: 7 [48600/60000 (81%)]\tLoss: 0.395265\n",
            "Agent: <VirtualWorker id:Agent_base #objects:7> Train Epoch: 7 [50400/60000 (84%)]\tLoss: 0.459358\n",
            "Agent: <VirtualWorker id:Agent_base #objects:7> Train Epoch: 7 [52200/60000 (87%)]\tLoss: 0.399838\n",
            "Agent: <VirtualWorker id:Agent_base #objects:7> Train Epoch: 7 [54000/60000 (90%)]\tLoss: 0.212667\n",
            "Agent: <VirtualWorker id:Agent_base #objects:7> Train Epoch: 7 [55800/60000 (93%)]\tLoss: 0.461764\n",
            "Agent: <VirtualWorker id:Agent_base #objects:7> Train Epoch: 7 [57600/60000 (96%)]\tLoss: 0.658755\n",
            "Agent: <VirtualWorker id:Agent_base #objects:7> Train Epoch: 7 [59400/60000 (99%)]\tLoss: 0.338245\n"
          ],
          "name": "stdout"
        }
      ]
    },
    {
      "cell_type": "code",
      "metadata": {
        "id": "0WL9pUaToIKC",
        "colab_type": "code",
        "colab": {
          "base_uri": "https://localhost:8080/",
          "height": 35
        },
        "outputId": "c8cd6527-a08c-4d48-aa11-65ac38fc1f69"
      },
      "source": [
        "# Base model accuracy\n",
        "test(args, model, device, test_loader)"
      ],
      "execution_count": 15,
      "outputs": [
        {
          "output_type": "execute_result",
          "data": {
            "text/plain": [
              "(0.4224801574707031, 84.79)"
            ]
          },
          "metadata": {
            "tags": []
          },
          "execution_count": 15
        }
      ]
    },
    {
      "cell_type": "code",
      "metadata": {
        "id": "r237Ojh8oYmX",
        "colab_type": "code",
        "colab": {}
      },
      "source": [
        "def create_mal_data(start_idx,end_idx,random_image_idx=113):\n",
        "  \n",
        "  indexes_5 = []\n",
        "  mnist_full_train_dataset = datasets.FashionMNIST('../data', train=True, download=True,transform=transforms.Compose([transforms.ToTensor(),transforms.Normalize((0.1307,), (0.3081,))]))\n",
        "  for i in range(start_idx,end_idx):\n",
        "    if mnist_full_train_dataset.targets[i] == 5:\n",
        "      indexes_5.append(i)\n",
        "    else:\n",
        "      pass\n",
        "  \n",
        "  #print('Total examples found', len(indexes_5))\n",
        "  print('Class before change for data item at index:',indexes_5[0],':',mnist_full_train_dataset.targets[indexes_5[0]])\n",
        "\n",
        "  # change class lables in the subset from 5 to 7\n",
        "  # Change class labels of only 10 examples\n",
        "  #for i in range(0,len(indexes_5)):\n",
        "  for i in range(1):\n",
        "    mnist_full_train_dataset.targets[indexes_5[i]] = 7\n",
        "\n",
        "  print('Class after change for data item at index:',indexes_5[0],':',mnist_full_train_dataset.targets[indexes_5[0]])\n",
        "\n",
        "\n",
        "  return mnist_full_train_dataset\n",
        "\n",
        "def get_data_federd_lrng(ts):\n",
        "\n",
        "  start_idx = 6000 * (ts-1)\n",
        "  end_idx = start_idx + 6000\n",
        "  return create_mal_data(start_idx,end_idx)\n"
      ],
      "execution_count": 0,
      "outputs": []
    },
    {
      "cell_type": "code",
      "metadata": {
        "id": "KSNBiYd9ogsl",
        "colab_type": "code",
        "colab": {
          "base_uri": "https://localhost:8080/",
          "height": 52
        },
        "outputId": "e1c8a528-15cb-4759-8858-c6dd5f9fd5be"
      },
      "source": [
        "# Get updated F-MINST dataset wth an incorrect class\n",
        "ds_t_n = get_data_federd_lrng(1)"
      ],
      "execution_count": 17,
      "outputs": [
        {
          "output_type": "stream",
          "text": [
            "Class before change for data item at index: 8 : tensor(5)\n",
            "Class after change for data item at index: 8 : tensor(7)\n"
          ],
          "name": "stdout"
        }
      ]
    },
    {
      "cell_type": "code",
      "metadata": {
        "id": "Kr77UY4IpH0r",
        "colab_type": "code",
        "colab": {
          "base_uri": "https://localhost:8080/",
          "height": 35
        },
        "outputId": "3355c0f1-4355-495a-afbf-c3dfd42270a7"
      },
      "source": [
        "# Create federated data loader with examples split across 10 agents\n",
        "federated_train_ds_t_n = sy.FederatedDataLoader(ds_t_n.federate((Agent_10,Agent_1,Agent_2,Agent_3,Agent_4,Agent_5,Agent_6,Agent_7,Agent_8,Agent_9)),batch_size=60,shuffle=True, **kwargs)\n"
      ],
      "execution_count": 19,
      "outputs": [
        {
          "output_type": "stream",
          "text": [
            "WARNING:root:The following options are not supported: num_workers: 1, pin_memory: True\n"
          ],
          "name": "stderr"
        }
      ]
    },
    {
      "cell_type": "code",
      "metadata": {
        "id": "ZhD0meW_qeGg",
        "colab_type": "code",
        "colab": {}
      },
      "source": [
        "def cal_grad_bkpropgt_return_delta(data,target,batch_idx,federated_train_loader,model,device,epoch):\n",
        "  #print('BEFORE: ',model.state_dict()['conv2.bias'])\n",
        "  model.send(data.location) # <-- NEW: send the model to the right location\n",
        "  data, target = data.to(device), target.to(device)\n",
        "  optimizer.zero_grad()\n",
        "  output = model(data)\n",
        "  loss = F.nll_loss(output, target)\n",
        "  loss.backward()\n",
        "  optimizer.step()\n",
        "  model.get() # <-- NEW: get the model back\n",
        "  #print('AFTER: ',model.state_dict()['conv2.bias'])\n",
        "  if batch_idx % args.log_interval == 0:\n",
        "      loss = loss.get() # <-- NEW: get the loss back\n",
        "\n",
        "      print('Agent: {} Train Epoch: {} [{}/{} ({:.0f}%)]\\tLoss: {:.6f}'.format(\n",
        "          data.location,epoch, batch_idx * args.batch_size, len(federated_train_loader) * args.batch_size,\n",
        "          100. * batch_idx / len(federated_train_loader), loss.item()))\n",
        "      \n",
        "  #return model"
      ],
      "execution_count": 0,
      "outputs": []
    },
    {
      "cell_type": "code",
      "metadata": {
        "id": "sCK1yLHAsfqP",
        "colab_type": "code",
        "colab": {}
      },
      "source": [
        "def boost_update(delta,boost_factor,update_weights_only = True):\n",
        "  if update_weights_only:\n",
        "    for nam,param in delta.items():\n",
        "      if re.split('\\.',nam)[1] == 'weight':  # updating only wieghts and not biases\n",
        "        \n",
        "        delta[nam] = boost_factor* delta[nam]\n",
        "  else:\n",
        "    for nam,param in delta.items():\n",
        "      delta[nam] = boost_factor* delta[nam]\n",
        "  \n",
        "  return delta"
      ],
      "execution_count": 0,
      "outputs": []
    },
    {
      "cell_type": "code",
      "metadata": {
        "id": "nccor3nLslh-",
        "colab_type": "code",
        "colab": {}
      },
      "source": [
        "# ATTACK\n",
        "\n",
        "from collections import Counter\n",
        "\n",
        "def updated_weights(model,delta,update_weights= True):\n",
        "  if updated_weights:\n",
        "    for name,param in model.state_dict().items():\n",
        "      if re.split('\\.',name)[1] == 'weight': # only updating weights\n",
        "        #new_weights = {name: model.state_dict()[name] - delta[name] for name in model.state_dict()}\n",
        "        new_weights = {name: model.state_dict()[name] + delta[name] for name in model.state_dict()}\n",
        "        #new_weights[name] = model.state_dict()[name] + (1.0/4) * delta[name]\n",
        "  else:\n",
        "    for name,param in model.state_dict().items():\n",
        "      new_weights = {name: model.state_dict()[name] + delta[name] for name in model.state_dict()}  \n",
        "  return new_weights\n",
        "\n",
        "\n",
        "def avg_agent_updates(agent_updates_dict_list):\n",
        "  \n",
        "  all_updates = Counter()\n",
        "  all_param_names = Counter()\n",
        "  for agent_update in agent_updates_dict_list:\n",
        "      all_updates.update(agent_update)\n",
        "      all_param_names.update(agent_update.keys())\n",
        "\n",
        "  averaged_updates_delta = {x: (1.0 * all_updates[x])/all_param_names[x] for x in all_updates.keys()}\n",
        "\n",
        "  return averaged_updates_delta\n",
        "\n",
        "\n",
        "\n"
      ],
      "execution_count": 0,
      "outputs": []
    },
    {
      "cell_type": "code",
      "metadata": {
        "id": "4sU6udptkuKX",
        "colab_type": "code",
        "colab": {}
      },
      "source": [
        "def train_(args, model,Current_model, device, federated_train_loader, optimizer,batch_size,EPOCHS):\n",
        "\n",
        "  model.train()\n",
        "  \n",
        "  \n",
        "  for epc in range(EPOCHS):\n",
        "    batch_no_Agent_1,epoch_no_Agent_1 = 0,0\n",
        "    batch_no_Agent_2,epoch_no_Agent_2 = 0,0\n",
        "    batch_no_Agent_3,epoch_no_Agent_3 = 0,0\n",
        "    batch_no_Agent_4,epoch_no_Agent_4 = 0,0\n",
        "    batch_no_Agent_5,epoch_no_Agent_5 = 0,0\n",
        "    batch_no_Agent_6,epoch_no_Agent_6 = 0,0\n",
        "    batch_no_Agent_7,epoch_no_Agent_7 = 0,0\n",
        "    batch_no_Agent_8,epoch_no_Agent_8 = 0,0\n",
        "    batch_no_Agent_9,epoch_no_Agent_9 = 0,0\n",
        "    batch_no_Agent_10,epoch_no_Agent_10 = 0,0  \n",
        "\n",
        "    for batch_idx, (data, target) in enumerate(federated_train_loader): # <-- now it is a distributed dataset\n",
        "                \n",
        "        if data.location == Agent_1:\n",
        "          if epc <= (EPOCHS-2):\n",
        "            batch_no_Agent_1 += 1\n",
        "            if epc ==0 and batch_no_Agent_1 ==1:\n",
        "              model.load_state_dict(Current_model.state_dict())\n",
        "            if epc != 0 and batch_no_Agent_1 == 1:\n",
        "              #print('Loading state for Agent 1')\n",
        "              model.load_state_dict(model_params_Agent_1_frm_last_epoch)\n",
        "            cal_grad_bkpropgt_return_delta(data,target,batch_idx,federated_train_loader,model,device,epc)\n",
        "            if batch_no_Agent_1 == 100:\n",
        "              model_params_Agent_1_frm_last_epoch = model.state_dict()\n",
        "              #print('Saving state for Agent 1 after finishing epoch',epc)\n",
        "              model_params_Agent_1_frm_last_epoch = copy.deepcopy(model_params_Agent_1_frm_last_epoch)\n",
        "            \n",
        "          else:\n",
        "            #print('For Agent 1 bias of model',model.state_dict()['conv2.bias'])\n",
        "            batch_no_Agent_1 += 1\n",
        "            if batch_no_Agent_1 == 1 and EPOCHS>1:\n",
        "              model.load_state_dict(model_params_Agent_1_frm_last_epoch)\n",
        "              #print('For Agent 1 bias of model',model.state_dict()['conv2.bias'])\n",
        "            cal_grad_bkpropgt_return_delta(data,target,batch_idx,federated_train_loader,model,device,epc)\n",
        "            if batch_no_Agent_1==100:\n",
        "              delta_Agent_1 = {name: model.state_dict()[name] - Current_model.state_dict()[name] for name in model.state_dict() if name in Current_model.state_dict()}\n",
        "              model.load_state_dict(Current_model.state_dict())\n",
        "          \n",
        "            \n",
        "        elif data.location == Agent_2:\n",
        "          if epc <= (EPOCHS-2):\n",
        "            batch_no_Agent_2 += 1\n",
        "            if epc ==0 and batch_no_Agent_1 ==1:\n",
        "              model.load_state_dict(Current_model.state_dict())\n",
        "            if epc != 0 and batch_no_Agent_2 == 1:\n",
        "              #print('Loading state for Agent 2')\n",
        "              model.load_state_dict(model_params_Agent_2_frm_last_epoch)\n",
        "            cal_grad_bkpropgt_return_delta(data,target,batch_idx,federated_train_loader,model,device,epc)\n",
        "            if batch_no_Agent_2 == 100:\n",
        "              model_params_Agent_2_frm_last_epoch = model.state_dict()\n",
        "              model_params_Agent_2_frm_last_epoch = copy.deepcopy(model_params_Agent_2_frm_last_epoch)\n",
        "              #print('Saving state for Agent 2 after finishing epoch',epc)\n",
        "\n",
        "          else:\n",
        "            #print('For Agent 10 bias of model initially',model.state_dict()['conv2.bias'])\n",
        "            batch_no_Agent_2 += 1\n",
        "            if batch_no_Agent_2 == 1 and EPOCHS>1:\n",
        "              model.load_state_dict(model_params_Agent_2_frm_last_epoch)\n",
        "              \n",
        "            cal_grad_bkpropgt_return_delta(data,target,batch_idx,federated_train_loader,model,device,epc)\n",
        "            if batch_no_Agent_2==100:\n",
        "              delta_Agent_2 = {name: model.state_dict()[name] - Current_model.state_dict()[name] for name in model.state_dict() if name in Current_model.state_dict()}\n",
        "              model.load_state_dict(Current_model.state_dict())\n",
        "              #print('For Agent 10 bias of model after agent 10 finishes',model.state_dict()['conv2.bias'])\n",
        "        \n",
        "        elif data.location == Agent_3:\n",
        "          if epc <= (EPOCHS-2):\n",
        "            batch_no_Agent_3 += 1\n",
        "            if epc ==0 and batch_no_Agent_3 ==1:\n",
        "              model.load_state_dict(Current_model.state_dict())\n",
        "            if epc != 0 and batch_no_Agent_3 == 1:\n",
        "              model.load_state_dict(model_params_Agent_3_frm_last_epoch)\n",
        "            cal_grad_bkpropgt_return_delta(data,target,batch_idx,federated_train_loader,model,device,epc)\n",
        "            if batch_no_Agent_3 == 100:\n",
        "              model_params_Agent_3_frm_last_epoch = model.state_dict()\n",
        "              model_params_Agent_3_frm_last_epoch = copy.deepcopy(model_params_Agent_3_frm_last_epoch)\n",
        "          else:\n",
        "            \n",
        "            batch_no_Agent_3 += 1\n",
        "            if batch_no_Agent_3 == 1 and EPOCHS>1:\n",
        "              model.load_state_dict(model_params_Agent_3_frm_last_epoch)\n",
        "              \n",
        "            cal_grad_bkpropgt_return_delta(data,target,batch_idx,federated_train_loader,model,device,epc)\n",
        "            if batch_no_Agent_3==100:\n",
        "              delta_Agent_3 = {name: model.state_dict()[name] - Current_model.state_dict()[name] for name in model.state_dict() if name in Current_model.state_dict()}\n",
        "              model.load_state_dict(Current_model.state_dict())\n",
        "              \n",
        "        elif data.location == Agent_4:\n",
        "          if epc <= (EPOCHS-2):\n",
        "            batch_no_Agent_4 += 1\n",
        "            if epc ==0 and batch_no_Agent_4 ==1:\n",
        "              model.load_state_dict(Current_model.state_dict())\n",
        "            if epc != 0 and batch_no_Agent_4 == 1:\n",
        "              model.load_state_dict(model_params_Agent_4_frm_last_epoch)\n",
        "            cal_grad_bkpropgt_return_delta(data,target,batch_idx,federated_train_loader,model,device,epc)\n",
        "            if batch_no_Agent_4 == 100:\n",
        "              model_params_Agent_4_frm_last_epoch = model.state_dict()\n",
        "              model_params_Agent_4_frm_last_epoch = copy.deepcopy(model_params_Agent_4_frm_last_epoch)\n",
        "          else:\n",
        "            \n",
        "            batch_no_Agent_4 += 1\n",
        "            if batch_no_Agent_4 == 1 and EPOCHS>1:\n",
        "              model.load_state_dict(model_params_Agent_4_frm_last_epoch)\n",
        "              \n",
        "            cal_grad_bkpropgt_return_delta(data,target,batch_idx,federated_train_loader,model,device,epc)\n",
        "            if batch_no_Agent_4==100:\n",
        "              delta_Agent_4 = {name: model.state_dict()[name] - Current_model.state_dict()[name] for name in model.state_dict() if name in Current_model.state_dict()}\n",
        "              model.load_state_dict(Current_model.state_dict())\n",
        "\n",
        "        elif data.location == Agent_5:\n",
        "          if epc <= (EPOCHS-2):\n",
        "            batch_no_Agent_5 += 1\n",
        "            if epc ==0 and batch_no_Agent_5 ==1:\n",
        "              model.load_state_dict(Current_model.state_dict())\n",
        "            if epc != 0 and batch_no_Agent_5 == 1:\n",
        "              model.load_state_dict(model_params_Agent_5_frm_last_epoch)\n",
        "            cal_grad_bkpropgt_return_delta(data,target,batch_idx,federated_train_loader,model,device,epc)\n",
        "            if batch_no_Agent_5 == 100:\n",
        "              model_params_Agent_5_frm_last_epoch = model.state_dict()\n",
        "              model_params_Agent_5_frm_last_epoch = copy.deepcopy(model_params_Agent_5_frm_last_epoch)\n",
        "          else:\n",
        "            \n",
        "            batch_no_Agent_5 += 1\n",
        "            if batch_no_Agent_5 == 1 and EPOCHS>1:\n",
        "              model.load_state_dict(model_params_Agent_5_frm_last_epoch)\n",
        "              \n",
        "            cal_grad_bkpropgt_return_delta(data,target,batch_idx,federated_train_loader,model,device,epc)\n",
        "            if batch_no_Agent_5==100:\n",
        "              delta_Agent_5 = {name: model.state_dict()[name] - Current_model.state_dict()[name] for name in model.state_dict() if name in Current_model.state_dict()}\n",
        "              model.load_state_dict(Current_model.state_dict())\n",
        "\n",
        "        elif data.location == Agent_6:\n",
        "          if epc <= (EPOCHS-2):\n",
        "            batch_no_Agent_6 += 1\n",
        "            if epc ==0 and batch_no_Agent_6 ==1:\n",
        "              model.load_state_dict(Current_model.state_dict())\n",
        "            if epc != 0 and batch_no_Agent_6 == 1:\n",
        "              model.load_state_dict(model_params_Agent_6_frm_last_epoch)\n",
        "            cal_grad_bkpropgt_return_delta(data,target,batch_idx,federated_train_loader,model,device,epc)\n",
        "            if batch_no_Agent_6 == 100:\n",
        "              model_params_Agent_6_frm_last_epoch = model.state_dict()\n",
        "              model_params_Agent_6_frm_last_epoch = copy.deepcopy(model_params_Agent_6_frm_last_epoch)\n",
        "          else:\n",
        "            \n",
        "            batch_no_Agent_6 += 1\n",
        "            if batch_no_Agent_6 == 1 and EPOCHS>1:\n",
        "              model.load_state_dict(model_params_Agent_6_frm_last_epoch)\n",
        "              \n",
        "            cal_grad_bkpropgt_return_delta(data,target,batch_idx,federated_train_loader,model,device,epc)\n",
        "            if batch_no_Agent_6==100:\n",
        "              delta_Agent_6 = {name: model.state_dict()[name] - Current_model.state_dict()[name] for name in model.state_dict() if name in Current_model.state_dict()}\n",
        "              model.load_state_dict(Current_model.state_dict())\n",
        "\n",
        "        \n",
        "        elif data.location == Agent_7:\n",
        "          if epc <= (EPOCHS-2):\n",
        "            batch_no_Agent_7 += 1\n",
        "            if epc ==0 and batch_no_Agent_7 ==1:\n",
        "              model.load_state_dict(Current_model.state_dict())\n",
        "            if epc != 0 and batch_no_Agent_7 == 1:\n",
        "              model.load_state_dict(model_params_Agent_7_frm_last_epoch)\n",
        "            cal_grad_bkpropgt_return_delta(data,target,batch_idx,federated_train_loader,model,device,epc)\n",
        "            if batch_no_Agent_7 == 100:\n",
        "              model_params_Agent_7_frm_last_epoch = model.state_dict()\n",
        "              model_params_Agent_7_frm_last_epoch = copy.deepcopy(model_params_Agent_7_frm_last_epoch)\n",
        "          else:\n",
        "            \n",
        "            batch_no_Agent_7 += 1\n",
        "            if batch_no_Agent_7 == 1 and EPOCHS>1:\n",
        "              model.load_state_dict(model_params_Agent_7_frm_last_epoch)\n",
        "              \n",
        "            cal_grad_bkpropgt_return_delta(data,target,batch_idx,federated_train_loader,model,device,epc)\n",
        "            if batch_no_Agent_7==100:\n",
        "              delta_Agent_7 = {name: model.state_dict()[name] - Current_model.state_dict()[name] for name in model.state_dict() if name in Current_model.state_dict()}\n",
        "              model.load_state_dict(Current_model.state_dict())\n",
        "        \n",
        "\n",
        "        elif data.location == Agent_8:\n",
        "          if epc <= (EPOCHS-2):\n",
        "            batch_no_Agent_8 += 1\n",
        "            if epc ==0 and batch_no_Agent_8 ==1:\n",
        "              model.load_state_dict(Current_model.state_dict())\n",
        "            if epc != 0 and batch_no_Agent_8 == 1:\n",
        "              model.load_state_dict(model_params_Agent_8_frm_last_epoch)\n",
        "            cal_grad_bkpropgt_return_delta(data,target,batch_idx,federated_train_loader,model,device,epc)\n",
        "            if batch_no_Agent_8 == 100:\n",
        "              model_params_Agent_8_frm_last_epoch = model.state_dict()\n",
        "              model_params_Agent_8_frm_last_epoch = copy.deepcopy(model_params_Agent_8_frm_last_epoch)\n",
        "          else:\n",
        "            \n",
        "            batch_no_Agent_8 += 1\n",
        "            if batch_no_Agent_8 == 1 and EPOCHS>1:\n",
        "              model.load_state_dict(model_params_Agent_8_frm_last_epoch)\n",
        "              \n",
        "            cal_grad_bkpropgt_return_delta(data,target,batch_idx,federated_train_loader,model,device,epc)\n",
        "            if batch_no_Agent_8==100:\n",
        "              delta_Agent_8 = {name: model.state_dict()[name] - Current_model.state_dict()[name] for name in model.state_dict() if name in Current_model.state_dict()}\n",
        "              model.load_state_dict(Current_model.state_dict())\n",
        "\n",
        "        \n",
        "        elif data.location == Agent_9:\n",
        "          if epc <= (EPOCHS-2):\n",
        "            batch_no_Agent_9 += 1\n",
        "            if epc ==0 and batch_no_Agent_9 ==1:\n",
        "              model.load_state_dict(Current_model.state_dict())\n",
        "            if epc != 0 and batch_no_Agent_9 == 1:\n",
        "              model.load_state_dict(model_params_Agent_9_frm_last_epoch)\n",
        "            cal_grad_bkpropgt_return_delta(data,target,batch_idx,federated_train_loader,model,device,epc)\n",
        "            if batch_no_Agent_9 == 100:\n",
        "              model_params_Agent_9_frm_last_epoch = model.state_dict()\n",
        "              model_params_Agent_9_frm_last_epoch = copy.deepcopy(model_params_Agent_9_frm_last_epoch)\n",
        "          else:\n",
        "            \n",
        "            batch_no_Agent_9 += 1\n",
        "            if batch_no_Agent_9 == 1 and EPOCHS>1:\n",
        "              model.load_state_dict(model_params_Agent_9_frm_last_epoch)\n",
        "              \n",
        "            cal_grad_bkpropgt_return_delta(data,target,batch_idx,federated_train_loader,model,device,epc)\n",
        "            if batch_no_Agent_9==100:\n",
        "              delta_Agent_9 = {name: model.state_dict()[name] - Current_model.state_dict()[name] for name in model.state_dict() if name in Current_model.state_dict()}\n",
        "              model.load_state_dict(Current_model.state_dict())\n",
        "        \n",
        "        elif data.location == Agent_10:\n",
        "          if epc <= (EPOCHS-2):\n",
        "            batch_no_Agent_10 += 1\n",
        "            if epc ==0 and batch_no_Agent_10 ==1:\n",
        "              model.load_state_dict(Current_model.state_dict())\n",
        "            if epc != 0 and batch_no_Agent_10 == 1:\n",
        "              model.load_state_dict(model_params_Agent_10_frm_last_epoch)\n",
        "            cal_grad_bkpropgt_return_delta(data,target,batch_idx,federated_train_loader,model,device,epc)\n",
        "            if batch_no_Agent_10 == 100:\n",
        "              model_params_Agent_10_frm_last_epoch = model.state_dict()\n",
        "              model_params_Agent_10_frm_last_epoch = copy.deepcopy(model_params_Agent_10_frm_last_epoch)\n",
        "              #print('Model state saved')\n",
        "              #print('CURRENT Model state dict conv2 bias',model.state_dict()['conv2.bias'])\n",
        "              #print('CURRENT Model state dict conv2 bias saved in temp dict',model_params_Agent_10_frm_last_epoch['conv2.bias'])\n",
        "              \n",
        "          else:\n",
        "            \n",
        "            batch_no_Agent_10 += 1\n",
        "            if batch_no_Agent_10 == 1 and EPOCHS>1:\n",
        "              #print('Loading from Saved State')\n",
        "              #print('LAST saved Model state dict conv2 bias',model_params_Agent_10_frm_last_epoch['conv2.bias'])\n",
        "              model.load_state_dict(model_params_Agent_10_frm_last_epoch)\n",
        "              #print('AFTER loading Model state dict conv2 bias',model.state_dict()['conv2.bias'])\n",
        "              \n",
        "            cal_grad_bkpropgt_return_delta(data,target,batch_idx,federated_train_loader,model,device,epc)\n",
        "            \n",
        "            if batch_no_Agent_10==100:\n",
        "              delta_Agent_10 = {name: model.state_dict()[name] - Current_model.state_dict()[name] for name in model.state_dict() if name in Current_model.state_dict()}\n",
        "              #print('ENDED on Agent 10. NEW Model state dict conv2 bias',model.state_dict()['conv2.bias'])\n",
        "              #print('ENDED on Agent 10. delta',delta_Agent_10['conv2.bias'])\n",
        "              #print('ENDED on Agent 10. Model state dict conv2 bias',model.state_dict()['conv2.bias'])\n",
        "              #print('ENDED on Agent 10. CURRENT Model state dict conv2 bias',Current_model.state_dict()['conv2.bias'])\n",
        "              model.load_state_dict(Current_model.state_dict())\n",
        "        \n",
        "       \n",
        "  \n",
        "  return delta_Agent_1, delta_Agent_2, delta_Agent_3, delta_Agent_4,delta_Agent_5, delta_Agent_6, delta_Agent_7, delta_Agent_8, delta_Agent_9, delta_Agent_10\n",
        "  "
      ],
      "execution_count": 0,
      "outputs": []
    },
    {
      "cell_type": "code",
      "metadata": {
        "id": "h0bxNU76qNxp",
        "colab_type": "code",
        "colab": {
          "base_uri": "https://localhost:8080/",
          "height": 35
        },
        "outputId": "7aca796e-6141-4b90-dbed-2f9ae5f437d0"
      },
      "source": [
        "Current_model = Net().to(device)\n",
        "Current_model.load_state_dict(model.state_dict())\n"
      ],
      "execution_count": 23,
      "outputs": [
        {
          "output_type": "execute_result",
          "data": {
            "text/plain": [
              "<All keys matched successfully>"
            ]
          },
          "metadata": {
            "tags": []
          },
          "execution_count": 23
        }
      ]
    },
    {
      "cell_type": "code",
      "metadata": {
        "id": "r0Vb7xuYp06Y",
        "colab_type": "code",
        "colab": {}
      },
      "source": [
        "delta_Agent_1, delta_Agent_2, delta_Agent_3, delta_Agent_4,delta_Agent_5, delta_Agent_6, delta_Agent_7, delta_Agent_8, delta_Agent_9, delta_Agent_10 = train_(args, model,Current_model, device, federated_train_ds_t_n, optimizer,60,5)"
      ],
      "execution_count": 0,
      "outputs": []
    },
    {
      "cell_type": "code",
      "metadata": {
        "id": "45atSQGrtL5I",
        "colab_type": "code",
        "colab": {
          "base_uri": "https://localhost:8080/",
          "height": 141
        },
        "outputId": "b1ab673f-7408-48f7-a5f1-c17c42a16e60"
      },
      "source": [
        "delta_Agent_10['conv2.bias']"
      ],
      "execution_count": 31,
      "outputs": [
        {
          "output_type": "execute_result",
          "data": {
            "text/plain": [
              "tensor([ 0.0091, -0.0011,  0.0088,  0.0070,  0.0003, -0.0007,  0.0035,  0.0002,\n",
              "        -0.0004, -0.0064, -0.0029,  0.0108,  0.0010,  0.0060,  0.0007,  0.0032,\n",
              "         0.0061,  0.0075, -0.0068, -0.0059,  0.0175, -0.0032,  0.0077,  0.0055,\n",
              "         0.0107, -0.0032, -0.0105, -0.0014,  0.0027, -0.0061,  0.0045,  0.0002,\n",
              "        -0.0007,  0.0013,  0.0077,  0.0014, -0.0044,  0.0029,  0.0065,  0.0045,\n",
              "         0.0047,  0.0002,  0.0023,  0.0047,  0.0027,  0.0049, -0.0020, -0.0034,\n",
              "        -0.0024,  0.0142], device='cuda:0')"
            ]
          },
          "metadata": {
            "tags": []
          },
          "execution_count": 31
        }
      ]
    },
    {
      "cell_type": "code",
      "metadata": {
        "id": "Avtm2v7xtZnM",
        "colab_type": "code",
        "colab": {}
      },
      "source": [
        "# boost malicious Agent 10's update\n",
        "delta_Agent_10 = boost_update(delta_Agent_10,10.0, False)\n",
        "agent_updates_ts = [delta_Agent_1, delta_Agent_2, delta_Agent_3, delta_Agent_4,delta_Agent_5, delta_Agent_6, delta_Agent_7, delta_Agent_8, delta_Agent_9, delta_Agent_10]\n",
        "\n",
        "average_delta_all_Agents = avg_agent_updates(agent_updates_ts)"
      ],
      "execution_count": 0,
      "outputs": []
    },
    {
      "cell_type": "code",
      "metadata": {
        "id": "4lRROtmKt_n3",
        "colab_type": "code",
        "colab": {
          "base_uri": "https://localhost:8080/",
          "height": 35
        },
        "outputId": "e5e9f415-600b-4586-9aaf-c73f1a16fc2a"
      },
      "source": [
        "mod_weights = updated_weights(Current_model,average_delta_all_Agents,False)\n",
        "Current_model_ts_plus_n = Net().to(device)\n",
        "Current_model_ts_plus_n.load_state_dict(mod_weights)\n",
        "loss_, main_accuracy_ = test(args, Current_model_ts_plus_n, device, test_loader)\n",
        "print('Timestamp {}. Loss is {:.6f}. Accuracy is {:.2f}'.format(1,loss_,main_accuracy_))"
      ],
      "execution_count": 32,
      "outputs": [
        {
          "output_type": "stream",
          "text": [
            "Timestamp 1. Loss is 0.413116. Accuracy is 85.12\n"
          ],
          "name": "stdout"
        }
      ]
    },
    {
      "cell_type": "code",
      "metadata": {
        "id": "fZmHCItlulct",
        "colab_type": "code",
        "colab": {
          "base_uri": "https://localhost:8080/",
          "height": 35
        },
        "outputId": "572be00f-7a20-481b-cf4c-ca15dcd43ab3"
      },
      "source": [
        "data = mnist_full_train_dataset_bs[8][0].resize_((1,1,28,28)).cuda()\n",
        "output = Current_model_ts_plus_n(data)\n",
        "#test_loss += F.nll_loss(output, target, reduction='sum').item() # sum up batch loss\n",
        "pred = output.argmax(1, keepdim=True)\n",
        "pred"
      ],
      "execution_count": 34,
      "outputs": [
        {
          "output_type": "execute_result",
          "data": {
            "text/plain": [
              "tensor([[5]], device='cuda:0')"
            ]
          },
          "metadata": {
            "tags": []
          },
          "execution_count": 34
        }
      ]
    },
    {
      "cell_type": "code",
      "metadata": {
        "id": "ATIRmknUvP0A",
        "colab_type": "code",
        "colab": {}
      },
      "source": [
        "\n",
        "model.load_state_dict(mod_weights)\n",
        "Current_model.load_state_dict(model.state_dict())\n",
        "#Current_model.load_state_dict(mod_weights)\n",
        "\n",
        "# RERUN steps to get new deltas"
      ],
      "execution_count": 0,
      "outputs": []
    }
  ]
}